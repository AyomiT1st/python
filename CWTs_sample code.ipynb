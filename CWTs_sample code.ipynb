{
 "cells": [
  {
   "cell_type": "code",
   "execution_count": 1,
   "metadata": {},
   "outputs": [],
   "source": [
    "import numpy as np\n",
    "from scipy.cluster.hierarchy import dendrogram, linkage\n",
    "from scipy.spatial.distance import pdist\n",
    "import matplotlib.pyplot as plt\n"
   ]
  },
  {
   "cell_type": "code",
   "execution_count": null,
   "metadata": {},
   "outputs": [],
   "source": [
    "#Compute the pairwise distances\n",
    "distances = pdist(data)"
   ]
  },
  {
   "cell_type": "code",
   "execution_count": null,
   "metadata": {},
   "outputs": [],
   "source": [
    "#Perform Hierarchical Agglomerative Clustering with complete linkage\n",
    "Z = linkage(distances, method='complete')\n"
   ]
  },
  {
   "cell_type": "code",
   "execution_count": null,
   "metadata": {},
   "outputs": [],
   "source": [
    "#Plot the dendrogram\n",
    "plt.figure(figsize=(10, 5))\n",
    "dendrogram(Z)\n",
    "plt.title('Dendrogram')\n",
    "plt.xlabel('Trajectory Index')\n",
    "plt.ylabel('Distance')\n",
    "plt.show()"
   ]
  },
  {
   "cell_type": "code",
   "execution_count": null,
   "metadata": {},
   "outputs": [],
   "source": [
    "#Use the L-method to determine the optimum number of clusters\n",
    "last_merges = Z[-10:, 2]\n",
    "last_merges_rev = last_merges[::-1]\n",
    "idxs = np.arange(1, len(last_merges_rev) + 1)\n",
    "plt.plot(idxs, last_merges_rev, marker='o')\n",
    "plt.title('L-method')\n",
    "plt.xlabel('Number of clusters')\n",
    "plt.ylabel('Distance')\n",
    "plt.show()\n",
    "\n",
    "'''The L-method plot shows the distance values for different numbers of clusters. \n",
    "The optimum number of clusters can be determined by looking for a \"knee\" or elbow point in the plot \n",
    "where the rate of decrease in distance significantly slows down.\n",
    "Note: In the code above, replace data with your actual dataset and adjust the\n",
    " parameters and visualizations according to your specific requirements.'''"
   ]
  },
  {
   "cell_type": "code",
   "execution_count": null,
   "metadata": {},
   "outputs": [],
   "source": [
    "import numpy as np\n",
    "from scipy.spatial.distance import cdist\n"
   ]
  },
  {
   "cell_type": "code",
   "execution_count": null,
   "metadata": {},
   "outputs": [],
   "source": [
    "#Compute the concentration weights\n",
    "distances = cdist(trajectories_data, trajectories_data, metric='euclidean')\n",
    "concentration_weights = 1 / distances\n"
   ]
  },
  {
   "cell_type": "code",
   "execution_count": null,
   "metadata": {},
   "outputs": [],
   "source": [
    "#Normalize the concentration weights\n",
    "normalized_weights = concentration_weights / np.sum(concentration_weights, axis=1, keepdims=True)\n"
   ]
  },
  {
   "cell_type": "code",
   "execution_count": null,
   "metadata": {},
   "outputs": [],
   "source": [
    "#Compute the Concentration-weighted trajectories (CWTs)\n",
    "cwt_trajectories = np.dot(normalized_weights, trajectories_data)"
   ]
  },
  {
   "cell_type": "code",
   "execution_count": null,
   "metadata": {},
   "outputs": [],
   "source": [
    "tajayi@ucar.edu"
   ]
  },
  {
   "cell_type": "code",
   "execution_count": null,
   "metadata": {},
   "outputs": [],
   "source": [
    "# Repository directory: place where I put my general functions\n",
    "repo_dir = '/glade/u/home/tajayi/colab'  # Replace this with the actual path to your repository directory\n",
    "\n",
    "# Tell Python to look through repo_dir as well when importing packages\n",
    "if repo_dir not in sys.path:\n",
    "    sys.path.append(repo_dir)\n",
    "\n",
    "#import plot_2D\n",
    "import Plot_2D"
   ]
  }
 ],
 "metadata": {
  "kernelspec": {
   "display_name": "Taiwo",
   "language": "python",
   "name": "python3"
  },
  "language_info": {
   "codemirror_mode": {
    "name": "ipython",
    "version": 3
   },
   "file_extension": ".py",
   "mimetype": "text/x-python",
   "name": "python",
   "nbconvert_exporter": "python",
   "pygments_lexer": "ipython3",
   "version": "3.10.9"
  },
  "orig_nbformat": 4
 },
 "nbformat": 4,
 "nbformat_minor": 2
}
