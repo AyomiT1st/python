{
 "cells": [
  {
   "cell_type": "code",
   "execution_count": 596,
   "metadata": {},
   "outputs": [],
   "source": [
    "from matplotlib.colors import LogNorm\n",
    "import numpy as np\n",
    "import pandas as pd\n",
    "import seaborn as sns\n",
    "import os\n",
    "import glob\n",
    "from datetime import datetime\n",
    "from datetime import timedelta\n",
    "from matplotlib import pyplot as plt\n",
    "import matplotlib.dates as md\n",
    "import matplotlib.colors as mcolors\n",
    "import cartopy.crs as ccrs\n",
    "import cartopy.feature as cfeature\n",
    "import warnings\n",
    "from mpl_toolkits.basemap import Basemap\n",
    "from scipy.interpolate import interp2d\n",
    "warnings.filterwarnings('ignore')\n",
    "#import datetime\n",
    "import scipy.ndimage as ndimage\n",
    "from matplotlib import cm\n",
    "import geopy.distance\n",
    "#import matplotlib as mpl\n",
    "\n",
    "from shapely.geometry import Point\n",
    "import geopandas as gpd\n",
    "from geopandas import GeoDataFrame\n",
    "import leafmap\n",
    "import plotly.express as px\n",
    "from matplotlib.transforms import ScaledTranslation\n",
    "from matplotlib.collections import LineCollection\n",
    "from matplotlib.colors import ListedColormap, BoundaryNorm\n",
    "#import pysplit"
   ]
  },
  {
   "cell_type": "code",
   "execution_count": 597,
   "metadata": {},
   "outputs": [],
   "source": [
    "def simple_read(files):\n",
    "    # Initialize an empty DataFrame to store the data from all files\n",
    "    all_data = []\n",
    "\n",
    "    for path in files:\n",
    "        with open(path) as f:\n",
    "            first_line = f.readline()\n",
    "            header_line = int(first_line[0:-2].split(\",\")[0]) - 1\n",
    "\n",
    "        data = pd.read_csv(path, sep=',', skiprows=header_line)\n",
    "        data.columns = [i.strip() for i in data.columns]\n",
    "\n",
    "        acc = 0\n",
    "        boo = False\n",
    "        for letter in path:\n",
    "            if letter == '2':\n",
    "                boo = True\n",
    "            elif boo and letter == '0':\n",
    "                acc -= 1\n",
    "                break\n",
    "            acc += 1\n",
    "\n",
    "        dt = datetime(int(path[acc:acc+4]), int(path[acc+4:acc+6]), int(path[acc+6:acc+8]))\n",
    "\n",
    "        for column in data.columns:\n",
    "            if 'Time' in column:\n",
    "                data[column] = dt + pd.to_timedelta(data[column], unit='seconds')\n",
    "\n",
    "        all_data.append(data.replace(-999999, np.NaN))\n",
    "\n",
    "    # Concatenate all DataFrames in the list to combine data from all files\n",
    "    combined_data = pd.concat(all_data, ignore_index=True)\n",
    "    \n",
    "    return combined_data\n"
   ]
  },
  {
   "cell_type": "code",
   "execution_count": 598,
   "metadata": {},
   "outputs": [
    {
     "data": {
      "text/html": [
       "<div>\n",
       "<style scoped>\n",
       "    .dataframe tbody tr th:only-of-type {\n",
       "        vertical-align: middle;\n",
       "    }\n",
       "\n",
       "    .dataframe tbody tr th {\n",
       "        vertical-align: top;\n",
       "    }\n",
       "\n",
       "    .dataframe thead th {\n",
       "        text-align: right;\n",
       "    }\n",
       "</style>\n",
       "<table border=\"1\" class=\"dataframe\">\n",
       "  <thead>\n",
       "    <tr style=\"text-align: right;\">\n",
       "      <th></th>\n",
       "      <th>Time_Start</th>\n",
       "      <th>Time_Stop</th>\n",
       "      <th>Latitude_THORNHILL</th>\n",
       "      <th>Longitude_THORNHILL</th>\n",
       "      <th>GPS_Altitude_THORNHILL</th>\n",
       "      <th>Sodium_ZIEMBA</th>\n",
       "      <th>Ammonium_ZIEMBA</th>\n",
       "      <th>Potassium_ZIEMBA</th>\n",
       "      <th>Magnesium_ZIEMBA</th>\n",
       "      <th>Calcium_ZIEMBA</th>\n",
       "      <th>Chloride_ZIEMBA</th>\n",
       "      <th>Nitrate_ZIEMBA</th>\n",
       "      <th>Sulfate_ZIEMBA</th>\n",
       "      <th>Oxalate_ZIEMBA</th>\n",
       "    </tr>\n",
       "  </thead>\n",
       "  <tbody>\n",
       "    <tr>\n",
       "      <th>0</th>\n",
       "      <td>2022-06-02 11:19:14</td>\n",
       "      <td>2022-06-02 11:19:15</td>\n",
       "      <td>32.363607</td>\n",
       "      <td>-64.676112</td>\n",
       "      <td>-27.670</td>\n",
       "      <td>0.9589</td>\n",
       "      <td>4.293</td>\n",
       "      <td>0.0</td>\n",
       "      <td>0.0454</td>\n",
       "      <td>0.008656</td>\n",
       "      <td>0.9537</td>\n",
       "      <td>0.9028</td>\n",
       "      <td>1.626</td>\n",
       "      <td>0.00916</td>\n",
       "    </tr>\n",
       "    <tr>\n",
       "      <th>1</th>\n",
       "      <td>2022-06-02 11:19:15</td>\n",
       "      <td>2022-06-02 11:19:16</td>\n",
       "      <td>32.363719</td>\n",
       "      <td>-64.676758</td>\n",
       "      <td>-27.460</td>\n",
       "      <td>0.9589</td>\n",
       "      <td>4.293</td>\n",
       "      <td>0.0</td>\n",
       "      <td>0.0454</td>\n",
       "      <td>0.008656</td>\n",
       "      <td>0.9537</td>\n",
       "      <td>0.9028</td>\n",
       "      <td>1.626</td>\n",
       "      <td>0.00916</td>\n",
       "    </tr>\n",
       "    <tr>\n",
       "      <th>2</th>\n",
       "      <td>2022-06-02 11:19:16</td>\n",
       "      <td>2022-06-02 11:19:17</td>\n",
       "      <td>32.363850</td>\n",
       "      <td>-64.677509</td>\n",
       "      <td>-27.115</td>\n",
       "      <td>0.9589</td>\n",
       "      <td>4.293</td>\n",
       "      <td>0.0</td>\n",
       "      <td>0.0454</td>\n",
       "      <td>0.008656</td>\n",
       "      <td>0.9537</td>\n",
       "      <td>0.9028</td>\n",
       "      <td>1.626</td>\n",
       "      <td>0.00916</td>\n",
       "    </tr>\n",
       "    <tr>\n",
       "      <th>3</th>\n",
       "      <td>2022-06-02 11:19:17</td>\n",
       "      <td>2022-06-02 11:19:18</td>\n",
       "      <td>32.363985</td>\n",
       "      <td>-64.678276</td>\n",
       "      <td>-26.515</td>\n",
       "      <td>0.9589</td>\n",
       "      <td>4.293</td>\n",
       "      <td>0.0</td>\n",
       "      <td>0.0454</td>\n",
       "      <td>0.008656</td>\n",
       "      <td>0.9537</td>\n",
       "      <td>0.9028</td>\n",
       "      <td>1.626</td>\n",
       "      <td>0.00916</td>\n",
       "    </tr>\n",
       "    <tr>\n",
       "      <th>4</th>\n",
       "      <td>2022-06-02 11:19:18</td>\n",
       "      <td>2022-06-02 11:19:19</td>\n",
       "      <td>32.364120</td>\n",
       "      <td>-64.679059</td>\n",
       "      <td>-25.485</td>\n",
       "      <td>0.9589</td>\n",
       "      <td>4.293</td>\n",
       "      <td>0.0</td>\n",
       "      <td>0.0454</td>\n",
       "      <td>0.008656</td>\n",
       "      <td>0.9537</td>\n",
       "      <td>0.9028</td>\n",
       "      <td>1.626</td>\n",
       "      <td>0.00916</td>\n",
       "    </tr>\n",
       "    <tr>\n",
       "      <th>...</th>\n",
       "      <td>...</td>\n",
       "      <td>...</td>\n",
       "      <td>...</td>\n",
       "      <td>...</td>\n",
       "      <td>...</td>\n",
       "      <td>...</td>\n",
       "      <td>...</td>\n",
       "      <td>...</td>\n",
       "      <td>...</td>\n",
       "      <td>...</td>\n",
       "      <td>...</td>\n",
       "      <td>...</td>\n",
       "      <td>...</td>\n",
       "      <td>...</td>\n",
       "    </tr>\n",
       "    <tr>\n",
       "      <th>155230</th>\n",
       "      <td>2022-06-17 16:56:00</td>\n",
       "      <td>2022-06-17 16:56:01</td>\n",
       "      <td>32.372309</td>\n",
       "      <td>-64.726388</td>\n",
       "      <td>172.380</td>\n",
       "      <td>1.2820</td>\n",
       "      <td>8.013</td>\n",
       "      <td>0.0</td>\n",
       "      <td>0.0341</td>\n",
       "      <td>0.000000</td>\n",
       "      <td>3.3660</td>\n",
       "      <td>0.3732</td>\n",
       "      <td>0.689</td>\n",
       "      <td>0.01352</td>\n",
       "    </tr>\n",
       "    <tr>\n",
       "      <th>155231</th>\n",
       "      <td>2022-06-17 16:56:01</td>\n",
       "      <td>2022-06-17 16:56:02</td>\n",
       "      <td>32.372208</td>\n",
       "      <td>-64.725767</td>\n",
       "      <td>170.085</td>\n",
       "      <td>1.2820</td>\n",
       "      <td>8.013</td>\n",
       "      <td>0.0</td>\n",
       "      <td>0.0341</td>\n",
       "      <td>0.000000</td>\n",
       "      <td>3.3660</td>\n",
       "      <td>0.3732</td>\n",
       "      <td>0.689</td>\n",
       "      <td>0.01352</td>\n",
       "    </tr>\n",
       "    <tr>\n",
       "      <th>155232</th>\n",
       "      <td>2022-06-17 16:56:02</td>\n",
       "      <td>2022-06-17 16:56:03</td>\n",
       "      <td>32.372103</td>\n",
       "      <td>-64.725148</td>\n",
       "      <td>167.540</td>\n",
       "      <td>1.2820</td>\n",
       "      <td>8.013</td>\n",
       "      <td>0.0</td>\n",
       "      <td>0.0341</td>\n",
       "      <td>0.000000</td>\n",
       "      <td>3.3660</td>\n",
       "      <td>0.3732</td>\n",
       "      <td>0.689</td>\n",
       "      <td>0.01352</td>\n",
       "    </tr>\n",
       "    <tr>\n",
       "      <th>155233</th>\n",
       "      <td>2022-06-17 16:56:03</td>\n",
       "      <td>2022-06-17 16:56:04</td>\n",
       "      <td>32.371995</td>\n",
       "      <td>-64.724529</td>\n",
       "      <td>165.040</td>\n",
       "      <td>1.2820</td>\n",
       "      <td>8.013</td>\n",
       "      <td>0.0</td>\n",
       "      <td>0.0341</td>\n",
       "      <td>0.000000</td>\n",
       "      <td>3.3660</td>\n",
       "      <td>0.3732</td>\n",
       "      <td>0.689</td>\n",
       "      <td>0.01352</td>\n",
       "    </tr>\n",
       "    <tr>\n",
       "      <th>155234</th>\n",
       "      <td>2022-06-17 16:56:04</td>\n",
       "      <td>2022-06-17 16:56:05</td>\n",
       "      <td>32.371886</td>\n",
       "      <td>-64.723911</td>\n",
       "      <td>162.555</td>\n",
       "      <td>1.2820</td>\n",
       "      <td>8.013</td>\n",
       "      <td>0.0</td>\n",
       "      <td>0.0341</td>\n",
       "      <td>0.000000</td>\n",
       "      <td>3.3660</td>\n",
       "      <td>0.3732</td>\n",
       "      <td>0.689</td>\n",
       "      <td>0.01352</td>\n",
       "    </tr>\n",
       "  </tbody>\n",
       "</table>\n",
       "<p>155235 rows × 14 columns</p>\n",
       "</div>"
      ],
      "text/plain": [
       "                Time_Start           Time_Stop  Latitude_THORNHILL   \n",
       "0      2022-06-02 11:19:14 2022-06-02 11:19:15           32.363607  \\\n",
       "1      2022-06-02 11:19:15 2022-06-02 11:19:16           32.363719   \n",
       "2      2022-06-02 11:19:16 2022-06-02 11:19:17           32.363850   \n",
       "3      2022-06-02 11:19:17 2022-06-02 11:19:18           32.363985   \n",
       "4      2022-06-02 11:19:18 2022-06-02 11:19:19           32.364120   \n",
       "...                    ...                 ...                 ...   \n",
       "155230 2022-06-17 16:56:00 2022-06-17 16:56:01           32.372309   \n",
       "155231 2022-06-17 16:56:01 2022-06-17 16:56:02           32.372208   \n",
       "155232 2022-06-17 16:56:02 2022-06-17 16:56:03           32.372103   \n",
       "155233 2022-06-17 16:56:03 2022-06-17 16:56:04           32.371995   \n",
       "155234 2022-06-17 16:56:04 2022-06-17 16:56:05           32.371886   \n",
       "\n",
       "        Longitude_THORNHILL  GPS_Altitude_THORNHILL  Sodium_ZIEMBA   \n",
       "0                -64.676112                 -27.670         0.9589  \\\n",
       "1                -64.676758                 -27.460         0.9589   \n",
       "2                -64.677509                 -27.115         0.9589   \n",
       "3                -64.678276                 -26.515         0.9589   \n",
       "4                -64.679059                 -25.485         0.9589   \n",
       "...                     ...                     ...            ...   \n",
       "155230           -64.726388                 172.380         1.2820   \n",
       "155231           -64.725767                 170.085         1.2820   \n",
       "155232           -64.725148                 167.540         1.2820   \n",
       "155233           -64.724529                 165.040         1.2820   \n",
       "155234           -64.723911                 162.555         1.2820   \n",
       "\n",
       "        Ammonium_ZIEMBA  Potassium_ZIEMBA  Magnesium_ZIEMBA  Calcium_ZIEMBA   \n",
       "0                 4.293               0.0            0.0454        0.008656  \\\n",
       "1                 4.293               0.0            0.0454        0.008656   \n",
       "2                 4.293               0.0            0.0454        0.008656   \n",
       "3                 4.293               0.0            0.0454        0.008656   \n",
       "4                 4.293               0.0            0.0454        0.008656   \n",
       "...                 ...               ...               ...             ...   \n",
       "155230            8.013               0.0            0.0341        0.000000   \n",
       "155231            8.013               0.0            0.0341        0.000000   \n",
       "155232            8.013               0.0            0.0341        0.000000   \n",
       "155233            8.013               0.0            0.0341        0.000000   \n",
       "155234            8.013               0.0            0.0341        0.000000   \n",
       "\n",
       "        Chloride_ZIEMBA  Nitrate_ZIEMBA  Sulfate_ZIEMBA  Oxalate_ZIEMBA  \n",
       "0                0.9537          0.9028           1.626         0.00916  \n",
       "1                0.9537          0.9028           1.626         0.00916  \n",
       "2                0.9537          0.9028           1.626         0.00916  \n",
       "3                0.9537          0.9028           1.626         0.00916  \n",
       "4                0.9537          0.9028           1.626         0.00916  \n",
       "...                 ...             ...             ...             ...  \n",
       "155230           3.3660          0.3732           0.689         0.01352  \n",
       "155231           3.3660          0.3732           0.689         0.01352  \n",
       "155232           3.3660          0.3732           0.689         0.01352  \n",
       "155233           3.3660          0.3732           0.689         0.01352  \n",
       "155234           3.3660          0.3732           0.689         0.01352  \n",
       "\n",
       "[155235 rows x 14 columns]"
      ]
     },
     "execution_count": 598,
     "metadata": {},
     "output_type": "execute_result"
    }
   ],
   "source": [
    "file_dir = 'C:/Users/taiwoajayi/Documents/pil/'\n",
    "\n",
    "files_2022 = np.sort(glob.glob(file_dir + '**activate*2022**.ict'))\n",
    "\n",
    "ds_2022 = simple_read(files_2022)\n",
    "ds_2022 = ds_2022.replace(-888888, 0)\n",
    "ds_2022 = ds_2022.dropna()\n",
    "\n",
    "# Reset the index after removing rows\n",
    "ds_2022.reset_index(drop=True, inplace=True)\n",
    "# Filter the data using the condition >= 0.4\n",
    "#ds_2022 = ds_2022[(ds_2022['Sodium_ZIEMBA'] >= 0.1) & (ds_2022['Sodium_ZIEMBA'] <= 2)]\n",
    "ds_2022 = ds_2022.dropna()\n",
    "ds_2022"
   ]
  },
  {
   "cell_type": "code",
   "execution_count": 599,
   "metadata": {},
   "outputs": [
    {
     "data": {
      "text/html": [
       "<div>\n",
       "<style scoped>\n",
       "    .dataframe tbody tr th:only-of-type {\n",
       "        vertical-align: middle;\n",
       "    }\n",
       "\n",
       "    .dataframe tbody tr th {\n",
       "        vertical-align: top;\n",
       "    }\n",
       "\n",
       "    .dataframe thead th {\n",
       "        text-align: right;\n",
       "    }\n",
       "</style>\n",
       "<table border=\"1\" class=\"dataframe\">\n",
       "  <thead>\n",
       "    <tr style=\"text-align: right;\">\n",
       "      <th></th>\n",
       "      <th>Time_Start</th>\n",
       "      <th>Time_Stop</th>\n",
       "      <th>Time_Mid</th>\n",
       "      <th>Sodium</th>\n",
       "      <th>Ammonium</th>\n",
       "      <th>Potassium</th>\n",
       "      <th>Magnesium</th>\n",
       "      <th>Calcium</th>\n",
       "      <th>Chloride</th>\n",
       "      <th>Nitrate</th>\n",
       "      <th>Sulfate</th>\n",
       "      <th>Oxalate</th>\n",
       "    </tr>\n",
       "  </thead>\n",
       "  <tbody>\n",
       "    <tr>\n",
       "      <th>5</th>\n",
       "      <td>2022-06-02 11:44:31</td>\n",
       "      <td>2022-06-02 11:49:31</td>\n",
       "      <td>2022-06-02 11:47:01</td>\n",
       "      <td>1.7060</td>\n",
       "      <td>3.761</td>\n",
       "      <td>0.04663</td>\n",
       "      <td>0.14650</td>\n",
       "      <td>0.096400</td>\n",
       "      <td>2.0080</td>\n",
       "      <td>1.1770</td>\n",
       "      <td>2.2490</td>\n",
       "      <td>0.005919</td>\n",
       "    </tr>\n",
       "    <tr>\n",
       "      <th>10</th>\n",
       "      <td>2022-06-02 12:10:06</td>\n",
       "      <td>2022-06-02 12:15:06</td>\n",
       "      <td>2022-06-02 12:12:36</td>\n",
       "      <td>0.8202</td>\n",
       "      <td>2.750</td>\n",
       "      <td>0.02384</td>\n",
       "      <td>0.14460</td>\n",
       "      <td>0.089450</td>\n",
       "      <td>0.9183</td>\n",
       "      <td>0.8811</td>\n",
       "      <td>1.7120</td>\n",
       "      <td>0.008450</td>\n",
       "    </tr>\n",
       "    <tr>\n",
       "      <th>11</th>\n",
       "      <td>2022-06-02 12:15:13</td>\n",
       "      <td>2022-06-02 12:20:13</td>\n",
       "      <td>2022-06-02 12:17:43</td>\n",
       "      <td>1.7170</td>\n",
       "      <td>5.890</td>\n",
       "      <td>0.13420</td>\n",
       "      <td>0.23950</td>\n",
       "      <td>0.203300</td>\n",
       "      <td>1.4200</td>\n",
       "      <td>1.5630</td>\n",
       "      <td>2.5260</td>\n",
       "      <td>0.010180</td>\n",
       "    </tr>\n",
       "    <tr>\n",
       "      <th>13</th>\n",
       "      <td>2022-06-02 12:25:27</td>\n",
       "      <td>2022-06-02 12:30:27</td>\n",
       "      <td>2022-06-02 12:27:57</td>\n",
       "      <td>1.5250</td>\n",
       "      <td>4.616</td>\n",
       "      <td>0.05147</td>\n",
       "      <td>0.12590</td>\n",
       "      <td>0.125900</td>\n",
       "      <td>1.5160</td>\n",
       "      <td>1.8910</td>\n",
       "      <td>2.2200</td>\n",
       "      <td>0.006162</td>\n",
       "    </tr>\n",
       "    <tr>\n",
       "      <th>15</th>\n",
       "      <td>2022-06-02 12:35:41</td>\n",
       "      <td>2022-06-02 12:40:41</td>\n",
       "      <td>2022-06-02 12:38:11</td>\n",
       "      <td>0.9632</td>\n",
       "      <td>4.691</td>\n",
       "      <td>0.00981</td>\n",
       "      <td>0.04487</td>\n",
       "      <td>0.020680</td>\n",
       "      <td>1.1930</td>\n",
       "      <td>1.2160</td>\n",
       "      <td>1.6260</td>\n",
       "      <td>0.004473</td>\n",
       "    </tr>\n",
       "    <tr>\n",
       "      <th>...</th>\n",
       "      <td>...</td>\n",
       "      <td>...</td>\n",
       "      <td>...</td>\n",
       "      <td>...</td>\n",
       "      <td>...</td>\n",
       "      <td>...</td>\n",
       "      <td>...</td>\n",
       "      <td>...</td>\n",
       "      <td>...</td>\n",
       "      <td>...</td>\n",
       "      <td>...</td>\n",
       "      <td>...</td>\n",
       "    </tr>\n",
       "    <tr>\n",
       "      <th>523</th>\n",
       "      <td>2022-06-17 15:55:01</td>\n",
       "      <td>2022-06-17 16:00:01</td>\n",
       "      <td>2022-06-17 15:57:31</td>\n",
       "      <td>2.9810</td>\n",
       "      <td>8.151</td>\n",
       "      <td>0.11310</td>\n",
       "      <td>0.25440</td>\n",
       "      <td>0.009252</td>\n",
       "      <td>4.2200</td>\n",
       "      <td>0.3282</td>\n",
       "      <td>0.9037</td>\n",
       "      <td>0.012350</td>\n",
       "    </tr>\n",
       "    <tr>\n",
       "      <th>526</th>\n",
       "      <td>2022-06-17 16:10:22</td>\n",
       "      <td>2022-06-17 16:15:22</td>\n",
       "      <td>2022-06-17 16:12:52</td>\n",
       "      <td>5.6030</td>\n",
       "      <td>11.170</td>\n",
       "      <td>0.26140</td>\n",
       "      <td>0.20310</td>\n",
       "      <td>0.002252</td>\n",
       "      <td>8.0050</td>\n",
       "      <td>0.7198</td>\n",
       "      <td>1.5430</td>\n",
       "      <td>0.016130</td>\n",
       "    </tr>\n",
       "    <tr>\n",
       "      <th>527</th>\n",
       "      <td>2022-06-17 16:15:29</td>\n",
       "      <td>2022-06-17 16:20:29</td>\n",
       "      <td>2022-06-17 16:17:59</td>\n",
       "      <td>4.9670</td>\n",
       "      <td>3.470</td>\n",
       "      <td>0.57970</td>\n",
       "      <td>0.34730</td>\n",
       "      <td>0.097950</td>\n",
       "      <td>8.7310</td>\n",
       "      <td>1.1590</td>\n",
       "      <td>0.8639</td>\n",
       "      <td>0.032710</td>\n",
       "    </tr>\n",
       "    <tr>\n",
       "      <th>528</th>\n",
       "      <td>2022-06-17 16:20:36</td>\n",
       "      <td>2022-06-17 16:25:36</td>\n",
       "      <td>2022-06-17 16:23:06</td>\n",
       "      <td>4.3930</td>\n",
       "      <td>7.169</td>\n",
       "      <td>0.20290</td>\n",
       "      <td>0.39900</td>\n",
       "      <td>0.041780</td>\n",
       "      <td>7.1020</td>\n",
       "      <td>1.5250</td>\n",
       "      <td>1.7200</td>\n",
       "      <td>0.011450</td>\n",
       "    </tr>\n",
       "    <tr>\n",
       "      <th>529</th>\n",
       "      <td>2022-06-17 16:25:43</td>\n",
       "      <td>2022-06-17 16:30:43</td>\n",
       "      <td>2022-06-17 16:28:13</td>\n",
       "      <td>2.8650</td>\n",
       "      <td>8.574</td>\n",
       "      <td>0.04471</td>\n",
       "      <td>0.25230</td>\n",
       "      <td>0.014470</td>\n",
       "      <td>4.2090</td>\n",
       "      <td>1.4130</td>\n",
       "      <td>1.6040</td>\n",
       "      <td>0.012110</td>\n",
       "    </tr>\n",
       "  </tbody>\n",
       "</table>\n",
       "<p>259 rows × 12 columns</p>\n",
       "</div>"
      ],
      "text/plain": [
       "             Time_Start           Time_Stop            Time_Mid  Sodium   \n",
       "5   2022-06-02 11:44:31 2022-06-02 11:49:31 2022-06-02 11:47:01  1.7060  \\\n",
       "10  2022-06-02 12:10:06 2022-06-02 12:15:06 2022-06-02 12:12:36  0.8202   \n",
       "11  2022-06-02 12:15:13 2022-06-02 12:20:13 2022-06-02 12:17:43  1.7170   \n",
       "13  2022-06-02 12:25:27 2022-06-02 12:30:27 2022-06-02 12:27:57  1.5250   \n",
       "15  2022-06-02 12:35:41 2022-06-02 12:40:41 2022-06-02 12:38:11  0.9632   \n",
       "..                  ...                 ...                 ...     ...   \n",
       "523 2022-06-17 15:55:01 2022-06-17 16:00:01 2022-06-17 15:57:31  2.9810   \n",
       "526 2022-06-17 16:10:22 2022-06-17 16:15:22 2022-06-17 16:12:52  5.6030   \n",
       "527 2022-06-17 16:15:29 2022-06-17 16:20:29 2022-06-17 16:17:59  4.9670   \n",
       "528 2022-06-17 16:20:36 2022-06-17 16:25:36 2022-06-17 16:23:06  4.3930   \n",
       "529 2022-06-17 16:25:43 2022-06-17 16:30:43 2022-06-17 16:28:13  2.8650   \n",
       "\n",
       "     Ammonium  Potassium  Magnesium   Calcium  Chloride  Nitrate  Sulfate   \n",
       "5       3.761    0.04663    0.14650  0.096400    2.0080   1.1770   2.2490  \\\n",
       "10      2.750    0.02384    0.14460  0.089450    0.9183   0.8811   1.7120   \n",
       "11      5.890    0.13420    0.23950  0.203300    1.4200   1.5630   2.5260   \n",
       "13      4.616    0.05147    0.12590  0.125900    1.5160   1.8910   2.2200   \n",
       "15      4.691    0.00981    0.04487  0.020680    1.1930   1.2160   1.6260   \n",
       "..        ...        ...        ...       ...       ...      ...      ...   \n",
       "523     8.151    0.11310    0.25440  0.009252    4.2200   0.3282   0.9037   \n",
       "526    11.170    0.26140    0.20310  0.002252    8.0050   0.7198   1.5430   \n",
       "527     3.470    0.57970    0.34730  0.097950    8.7310   1.1590   0.8639   \n",
       "528     7.169    0.20290    0.39900  0.041780    7.1020   1.5250   1.7200   \n",
       "529     8.574    0.04471    0.25230  0.014470    4.2090   1.4130   1.6040   \n",
       "\n",
       "      Oxalate  \n",
       "5    0.005919  \n",
       "10   0.008450  \n",
       "11   0.010180  \n",
       "13   0.006162  \n",
       "15   0.004473  \n",
       "..        ...  \n",
       "523  0.012350  \n",
       "526  0.016130  \n",
       "527  0.032710  \n",
       "528  0.011450  \n",
       "529  0.012110  \n",
       "\n",
       "[259 rows x 12 columns]"
      ]
     },
     "execution_count": 599,
     "metadata": {},
     "output_type": "execute_result"
    }
   ],
   "source": [
    "file_dir = 'C:/Users/taiwoajayi/Documents/pills/'\n",
    "\n",
    "files_2020 = np.sort(glob.glob(file_dir + '**ACTIVATE*2022**.ict'))\n",
    "\n",
    "ds_2020 = simple_read(files_2020)\n",
    "ds_2020 = ds_2020.replace(-8888, np.NaN)\n",
    "ds_2020 = ds_2020.replace(-9999, np.NaN)\n",
    "ds_2020 = ds_2020.dropna()\n",
    "#ds_2020 = ds_2020[ds_2020['Chloride'] <= 2]\n",
    "#ds_2020 = ds_2020[ds_2020['Sodium'] <= 4 ]\n",
    "ds_2020"
   ]
  },
  {
   "cell_type": "code",
   "execution_count": 600,
   "metadata": {},
   "outputs": [
    {
     "data": {
      "text/plain": [
       "'start_time = pd.to_datetime(\"2022-06-02 13:48:00\")\\nstop_time = pd.to_datetime(\"2022-06-02 14:10:00\")\\n\\n# Find the nearest indices to the target timestamps\\nstart_index = np.argmin(np.abs(ds_2022[\"Time_Start\"] - start_time))\\nstop_index = np.argmin(np.abs(ds_2022[\"Time_Start\"] - stop_time))\\n\\n# Extract the subset of data\\nPILLS_2_subset = ds_2022.iloc[start_index:stop_index + 1]  # Add 1 to include the stop_index\\nPILLS_2_subset.mean()'"
      ]
     },
     "execution_count": 600,
     "metadata": {},
     "output_type": "execute_result"
    }
   ],
   "source": [
    "'''start_time = pd.to_datetime(\"2022-06-02 13:48:00\")\n",
    "stop_time = pd.to_datetime(\"2022-06-02 14:10:00\")\n",
    "\n",
    "# Find the nearest indices to the target timestamps\n",
    "start_index = np.argmin(np.abs(ds_2022[\"Time_Start\"] - start_time))\n",
    "stop_index = np.argmin(np.abs(ds_2022[\"Time_Start\"] - stop_time))\n",
    "\n",
    "# Extract the subset of data\n",
    "PILLS_2_subset = ds_2022.iloc[start_index:stop_index + 1]  # Add 1 to include the stop_index\n",
    "PILLS_2_subset.mean()'''\n"
   ]
  },
  {
   "cell_type": "code",
   "execution_count": 662,
   "metadata": {},
   "outputs": [
    {
     "data": {
      "text/plain": [
       "Time_Start    2022-06-02 11:44:31\n",
       "Time_Stop     2022-06-02 11:49:31\n",
       "Time_Mid      2022-06-02 11:47:01\n",
       "Sodium                      1.706\n",
       "Potassium                 0.04663\n",
       "Magnesium                  0.1465\n",
       "Calcium                    0.0964\n",
       "Chloride                    2.008\n",
       "Nitrate                     1.177\n",
       "Sulfate                     2.249\n",
       "Oxalate                  0.005919\n",
       "dtype: object"
      ]
     },
     "execution_count": 662,
     "metadata": {},
     "output_type": "execute_result"
    }
   ],
   "source": [
    "# Specify the target timestamps\n",
    "start_time = pd.to_datetime(\"2022-06-02 13:48:00\")\n",
    "stop_time = pd.to_datetime(\"2022-06-02 14:10:00\")\n",
    "\n",
    "# Find the nearest indices to the target timestamps\n",
    "start_index = np.argmin(np.abs(ds_2020[\"Time_Start\"] - start_time))\n",
    "stop_index = np.argmin(np.abs(ds_2020[\"Time_Start\"] - stop_time))\n",
    "\n",
    "# Extract the subset of data\n",
    "PILS_2_subset = ds_2020.iloc[start_index:stop_index + 1]  # Add 1 to include the stop_index\n",
    "PILS_2_subset2 = PILS_2_subset.drop('Ammonium', axis=1)\n",
    "PILS_2_subset2.mean()\n",
    "\n"
   ]
  },
  {
   "cell_type": "code",
   "execution_count": 602,
   "metadata": {},
   "outputs": [
    {
     "data": {
      "text/plain": [
       "Time_Start    2022-06-02 13:57:33.000000256\n",
       "Time_Stop     2022-06-02 14:02:33.000000256\n",
       "Time_Mid      2022-06-02 14:00:02.999999744\n",
       "Sodium                             0.212202\n",
       "Potassium                           0.01308\n",
       "Magnesium                          0.017344\n",
       "Calcium                            0.023762\n",
       "Chloride                           0.190217\n",
       "Nitrate                            0.215283\n",
       "Sulfate                            0.326307\n",
       "Oxalate                            0.001806\n",
       "Nso4                                0.27262\n",
       "ratio                              0.932139\n",
       "dtype: object"
      ]
     },
     "execution_count": 602,
     "metadata": {},
     "output_type": "execute_result"
    }
   ],
   "source": [
    "# Specify the target timestamps\n",
    "start_time = pd.to_datetime(\"2022-06-02 13:48:00\")\n",
    "stop_time = pd.to_datetime(\"2022-06-02 14:10:00\")\n",
    "\n",
    "# Find the nearest indices to the target timestamps\n",
    "start_index = np.argmin(np.abs(ds_2020[\"Time_Start\"] - start_time))\n",
    "stop_index = np.argmin(np.abs(ds_2020[\"Time_Start\"] - stop_time))\n",
    "\n",
    "# Extract the subset of data\n",
    "PILS_2_subset = ds_2020.iloc[start_index:stop_index + 1]  # Add 1 to include the stop_index\n",
    "PILS_2_subset2 = PILS_2_subset.drop('Ammonium', axis=1)\n",
    "\n",
    "# Select the columns you want to sum\n",
    "columns_to_sum = ['Sodium', 'Potassium', 'Magnesium', 'Calcium', 'Chloride', 'Nitrate', 'Sulfate', 'Oxalate']\n",
    "\n",
    "# Sum the selected columns and store the result in Africa_total1\n",
    "PILS_2_subset1 = PILS_2_subset2[columns_to_sum].sum(axis = 1)\n",
    "# Calculate the sum of values for each row (axis=1)\n",
    "\n",
    "# Calculate the sum of all the values in Africa_total1\n",
    "#Africa_total1 = Africa_total1.sum()\n",
    "\n",
    "# Specify the range of columns for division\n",
    "start_col2 = 'Sodium'\n",
    "stop_col2 = 'Oxalate'\n",
    "\n",
    "# Perform division and assign the result to the specified range of columns\n",
    "PILS_2_subset2.loc[:, start_col2:stop_col2] = PILS_2_subset2.loc[:, start_col2:stop_col2].div(PILS_2_subset1, axis=0)\n",
    "PILS_2_subset2['Nso4'] = PILS_2_subset2['Sulfate'] - (0.253 * PILS_2_subset2['Sodium'])\n",
    "PILS_2_subset2['ratio'] = PILS_2_subset2['Chloride'] / PILS_2_subset2['Sodium']\n",
    "PILS_2_subset2.mean()\n"
   ]
  },
  {
   "cell_type": "code",
   "execution_count": 603,
   "metadata": {},
   "outputs": [
    {
     "data": {
      "text/plain": [
       "5.240473"
      ]
     },
     "execution_count": 603,
     "metadata": {},
     "output_type": "execute_result"
    }
   ],
   "source": [
    "PILS_2_subset1.mean()"
   ]
  },
  {
   "cell_type": "code",
   "execution_count": 604,
   "metadata": {},
   "outputs": [
    {
     "data": {
      "text/plain": [
       "Time_Start    2022-06-02 18:38:05.500000\n",
       "Time_Stop     2022-06-02 18:43:05.500000\n",
       "Time_Mid      2022-06-02 18:40:35.500000\n",
       "Sodium                          0.399047\n",
       "Potassium                        0.02283\n",
       "Magnesium                       0.039483\n",
       "Calcium                         0.025075\n",
       "Chloride                        0.059761\n",
       "Nitrate                         0.161643\n",
       "Sulfate                         0.284086\n",
       "Oxalate                         0.008074\n",
       "dtype: object"
      ]
     },
     "execution_count": 604,
     "metadata": {},
     "output_type": "execute_result"
    }
   ],
   "source": [
    "# Specify the target timestamps\n",
    "start_time = pd.to_datetime(\"2022-06-02 18:36:00\")\n",
    "stop_time = pd.to_datetime(\"2022-06-02 18:53:00\")\n",
    "\n",
    "# Find the nearest indices to the target timestamps\n",
    "start_index = np.argmin(np.abs(ds_2020[\"Time_Start\"] - start_time))\n",
    "stop_index = np.argmin(np.abs(ds_2020[\"Time_Start\"] - stop_time))\n",
    "\n",
    "# Extract the subset of data\n",
    "PILS_2b_subset = ds_2020.iloc[start_index:stop_index + 1]  # Add 1 to include the stop_index\n",
    "# Extract the subset of data\n",
    "PILS_2b_subset2 = PILS_2b_subset.drop('Ammonium', axis=1)\n",
    "\n",
    "# Select the columns you want to sum\n",
    "columns_to_sum = ['Sodium', 'Potassium', 'Magnesium', 'Calcium', 'Chloride', 'Nitrate', 'Sulfate', 'Oxalate']\n",
    "\n",
    "# Sum the selected columns and store the result in Africa_total1\n",
    "PILS_2b_subset1 = PILS_2b_subset2[columns_to_sum].sum(axis = 1)\n",
    "# Calculate the sum of values for each row (axis=1)\n",
    "\n",
    "# Calculate the sum of all the values in Africa_total1\n",
    "#Africa_total1 = Africa_total1.sum()\n",
    "\n",
    "# Specify the range of columns for division\n",
    "start_col2 = 'Sodium'\n",
    "stop_col2 = 'Oxalate'\n",
    "\n",
    "# Perform division and assign the result to the specified range of columns\n",
    "PILS_2b_subset2.loc[:, start_col2:stop_col2] = PILS_2b_subset2.loc[:, start_col2:stop_col2].div(PILS_2b_subset1, axis=0)\n",
    "PILS_2b_subset2.mean()"
   ]
  },
  {
   "cell_type": "code",
   "execution_count": 605,
   "metadata": {},
   "outputs": [
    {
     "data": {
      "text/plain": [
       "Time_Start    2022-06-02 18:38:05.500000\n",
       "Time_Stop     2022-06-02 18:43:05.500000\n",
       "Time_Mid      2022-06-02 18:40:35.500000\n",
       "Sodium                          0.399047\n",
       "Potassium                        0.02283\n",
       "Magnesium                       0.039483\n",
       "Calcium                         0.025075\n",
       "Chloride                        0.059761\n",
       "Nitrate                         0.161643\n",
       "Sulfate                         0.284086\n",
       "Oxalate                         0.008074\n",
       "Nso4                            0.183127\n",
       "ratio                           0.269968\n",
       "dtype: object"
      ]
     },
     "execution_count": 605,
     "metadata": {},
     "output_type": "execute_result"
    }
   ],
   "source": [
    "PILS_2b_subset2['Nso4'] = PILS_2b_subset2['Sulfate'] - (0.253 * PILS_2b_subset2['Sodium'])\n",
    "PILS_2b_subset2['ratio'] = PILS_2b_subset2['Chloride'] / PILS_2b_subset2['Sodium']\n",
    "PILS_2b_subset2.mean()"
   ]
  },
  {
   "cell_type": "code",
   "execution_count": 606,
   "metadata": {},
   "outputs": [
    {
     "data": {
      "text/plain": [
       "2.0903645"
      ]
     },
     "execution_count": 606,
     "metadata": {},
     "output_type": "execute_result"
    }
   ],
   "source": [
    "PILS_2b_subset1.mean()"
   ]
  },
  {
   "cell_type": "code",
   "execution_count": 607,
   "metadata": {},
   "outputs": [
    {
     "data": {
      "text/plain": [
       "Time_Start    2022-06-02 13:01:16\n",
       "Time_Stop     2022-06-02 13:06:16\n",
       "Time_Mid      2022-06-02 13:03:46\n",
       "Sodium                     0.1658\n",
       "Potassium                0.010552\n",
       "Magnesium                0.030473\n",
       "Calcium                  0.035747\n",
       "Chloride                 0.147273\n",
       "Nitrate                  0.255792\n",
       "Sulfate                  0.349479\n",
       "Oxalate                  0.004883\n",
       "dtype: object"
      ]
     },
     "execution_count": 607,
     "metadata": {},
     "output_type": "execute_result"
    }
   ],
   "source": [
    "# Specify the target timestamps\n",
    "start_time = pd.to_datetime(\"2022-06-02 12:59:00\")\n",
    "stop_time = pd.to_datetime(\"2022-06-02 13:10:00\")\n",
    "\n",
    "# Find the nearest indices to the target timestamps\n",
    "start_index = np.argmin(np.abs(ds_2020[\"Time_Start\"] - start_time))\n",
    "stop_index = np.argmin(np.abs(ds_2020[\"Time_Start\"] - stop_time))\n",
    "\n",
    "# Extract the subset of data\n",
    "PILS_22_subset = ds_2020.iloc[start_index:stop_index + 1]  # Add 1 to include the stop_index\n",
    "PILS_22_subset2 = PILS_22_subset.drop('Ammonium', axis=1)\n",
    "\n",
    "# Select the columns you want to sum\n",
    "columns_to_sum = ['Sodium', 'Potassium', 'Magnesium', 'Calcium', 'Chloride', 'Nitrate', 'Sulfate', 'Oxalate']\n",
    "\n",
    "# Sum the selected columns and store the result in Africa_total1\n",
    "PILS_22_subset1 = PILS_22_subset2[columns_to_sum].sum(axis = 1)\n",
    "# Calculate the sum of values for each row (axis=1)\n",
    "\n",
    "# Calculate the sum of all the values in Africa_total1\n",
    "#Africa_total1 = Africa_total1.sum()\n",
    "\n",
    "# Specify the range of columns for division\n",
    "start_col2 = 'Sodium'\n",
    "stop_col2 = 'Oxalate'\n",
    "\n",
    "# Perform division and assign the result to the specified range of columns\n",
    "PILS_22_subset2.loc[:, start_col2:stop_col2] = PILS_22_subset2.loc[:, start_col2:stop_col2].div(PILS_22_subset1, axis=0)\n",
    "PILS_22_subset2.mean()"
   ]
  },
  {
   "cell_type": "code",
   "execution_count": 608,
   "metadata": {},
   "outputs": [
    {
     "data": {
      "text/plain": [
       "Time_Start    2022-06-02 13:01:16\n",
       "Time_Stop     2022-06-02 13:06:16\n",
       "Time_Mid      2022-06-02 13:03:46\n",
       "Sodium                     0.1658\n",
       "Potassium                0.010552\n",
       "Magnesium                0.030473\n",
       "Calcium                  0.035747\n",
       "Chloride                 0.147273\n",
       "Nitrate                  0.255792\n",
       "Sulfate                  0.349479\n",
       "Oxalate                  0.004883\n",
       "Nso4                     0.307532\n",
       "ratio                    0.888253\n",
       "dtype: object"
      ]
     },
     "execution_count": 608,
     "metadata": {},
     "output_type": "execute_result"
    }
   ],
   "source": [
    "PILS_22_subset2['Nso4'] = PILS_22_subset2['Sulfate'] - (0.253 * PILS_22_subset2['Sodium'])\n",
    "PILS_22_subset2['ratio'] = PILS_22_subset2['Chloride'] / PILS_22_subset2['Sodium']\n",
    "PILS_22_subset2.mean()"
   ]
  },
  {
   "cell_type": "code",
   "execution_count": 609,
   "metadata": {},
   "outputs": [
    {
     "data": {
      "text/plain": [
       "2.002408"
      ]
     },
     "execution_count": 609,
     "metadata": {},
     "output_type": "execute_result"
    }
   ],
   "source": [
    "PILS_22_subset1.mean()"
   ]
  },
  {
   "cell_type": "code",
   "execution_count": 610,
   "metadata": {},
   "outputs": [
    {
     "data": {
      "text/plain": [
       "Time_Start    2022-06-07 14:33:35.500000\n",
       "Time_Stop     2022-06-07 14:38:35.500000\n",
       "Time_Mid      2022-06-07 14:36:05.500000\n",
       "Sodium                          0.292861\n",
       "Potassium                       0.006478\n",
       "Magnesium                       0.023346\n",
       "Calcium                         0.012205\n",
       "Chloride                        0.453495\n",
       "Nitrate                         0.096019\n",
       "Sulfate                          0.11435\n",
       "Oxalate                         0.001246\n",
       "dtype: object"
      ]
     },
     "execution_count": 610,
     "metadata": {},
     "output_type": "execute_result"
    }
   ],
   "source": [
    "# Specify the target timestamps\n",
    "start_time = pd.to_datetime(\"2022-06-07 14:32:00\")\n",
    "stop_time = pd.to_datetime(\"2022-06-07 14:48:00\")\n",
    "\n",
    "# Find the nearest indices to the target timestamps\n",
    "start_index = np.argmin(np.abs(ds_2020[\"Time_Start\"] - start_time))\n",
    "stop_index = np.argmin(np.abs(ds_2020[\"Time_Start\"] - stop_time))\n",
    "\n",
    "# Extract the subset of data\n",
    "PILS_7_subset = ds_2020.iloc[start_index:stop_index + 1]  # Add 1 to include the stop_index\n",
    "PILS_7_subset2 = PILS_7_subset.drop('Ammonium', axis=1)\n",
    "columns_to_sum = ['Sodium', 'Potassium', 'Magnesium', 'Calcium', 'Chloride', 'Nitrate', 'Sulfate', 'Oxalate']\n",
    "\n",
    "# Sum the selected columns and store the result in Africa_total1\n",
    "PILS_7_subset1 = PILS_7_subset2[columns_to_sum].sum(axis = 1)\n",
    "# Calculate the sum of values for each row (axis=1)\n",
    "\n",
    "# Calculate the sum of all the values in Africa_total1\n",
    "#Africa_total1 = Africa_total1.sum()\n",
    "\n",
    "# Specify the range of columns for division\n",
    "start_col2 = 'Sodium'\n",
    "stop_col2 = 'Oxalate'\n",
    "\n",
    "# Perform division and assign the result to the specified range of columns\n",
    "PILS_7_subset2.loc[:, start_col2:stop_col2] = PILS_7_subset2.loc[:, start_col2:stop_col2].div(PILS_7_subset1, axis=0)\n",
    "PILS_7_subset2.mean()"
   ]
  },
  {
   "cell_type": "code",
   "execution_count": 611,
   "metadata": {},
   "outputs": [
    {
     "data": {
      "text/plain": [
       "Time_Start    2022-06-07 14:33:35.500000\n",
       "Time_Stop     2022-06-07 14:38:35.500000\n",
       "Time_Mid      2022-06-07 14:36:05.500000\n",
       "Sodium                          0.292861\n",
       "Potassium                       0.006478\n",
       "Magnesium                       0.023346\n",
       "Calcium                         0.012205\n",
       "Chloride                        0.453495\n",
       "Nitrate                         0.096019\n",
       "Sulfate                          0.11435\n",
       "Oxalate                         0.001246\n",
       "Nso4                            0.040256\n",
       "ratio                           1.549955\n",
       "dtype: object"
      ]
     },
     "execution_count": 611,
     "metadata": {},
     "output_type": "execute_result"
    }
   ],
   "source": [
    "PILS_7_subset2['Nso4'] = PILS_7_subset2['Sulfate'] - (0.253 * PILS_7_subset2['Sodium'])\n",
    "PILS_7_subset2['ratio'] = PILS_7_subset2['Chloride'] / PILS_7_subset2['Sodium']\n",
    "PILS_7_subset2.mean()"
   ]
  },
  {
   "cell_type": "code",
   "execution_count": 612,
   "metadata": {},
   "outputs": [
    {
     "data": {
      "text/plain": [
       "20.028405"
      ]
     },
     "execution_count": 612,
     "metadata": {},
     "output_type": "execute_result"
    }
   ],
   "source": [
    "PILS_7_subset1.mean()"
   ]
  },
  {
   "cell_type": "code",
   "execution_count": 613,
   "metadata": {},
   "outputs": [
    {
     "data": {
      "text/plain": [
       "Time_Start    2022-06-07 19:07:24\n",
       "Time_Stop     2022-06-07 19:12:24\n",
       "Time_Mid      2022-06-07 19:09:54\n",
       "Sodium                   0.545755\n",
       "Potassium                0.010564\n",
       "Magnesium                0.036181\n",
       "Calcium                  0.003349\n",
       "Chloride                 0.323463\n",
       "Nitrate                  0.028771\n",
       "Sulfate                  0.049718\n",
       "Oxalate                    0.0022\n",
       "dtype: object"
      ]
     },
     "execution_count": 613,
     "metadata": {},
     "output_type": "execute_result"
    }
   ],
   "source": [
    "# Specify the target timestamps\n",
    "start_time = pd.to_datetime(\"2022-06-07 19:08:00\")\n",
    "stop_time = pd.to_datetime(\"2022-06-07 19:23:00\")\n",
    "\n",
    "# Find the nearest indices to the target timestamps\n",
    "start_index = np.argmin(np.abs(ds_2020[\"Time_Start\"] - start_time))\n",
    "stop_index = np.argmin(np.abs(ds_2020[\"Time_Start\"] - stop_time))\n",
    "\n",
    "# Extract the subset of data\n",
    "PILS_7b_subset = ds_2020.iloc[start_index:stop_index + 1]  # Add 1 to include the stop_index\n",
    "PILS_7b_subset2 = PILS_7b_subset.drop('Ammonium', axis=1)\n",
    "columns_to_sum = ['Sodium', 'Potassium', 'Magnesium', 'Calcium', 'Chloride', 'Nitrate', 'Sulfate', 'Oxalate']\n",
    "\n",
    "# Sum the selected columns and store the result in Africa_total1\n",
    "PILS_7b_subset1 = PILS_7b_subset2[columns_to_sum].sum(axis = 1)\n",
    "# Calculate the sum of values for each row (axis=1)\n",
    "\n",
    "# Calculate the sum of all the values in Africa_total1\n",
    "#Africa_total1 = Africa_total1.sum()\n",
    "\n",
    "# Specify the range of columns for division\n",
    "start_col2 = 'Sodium'\n",
    "stop_col2 = 'Oxalate'\n",
    "\n",
    "# Perform division and assign the result to the specified range of columns\n",
    "PILS_7b_subset2.loc[:, start_col2:stop_col2] = PILS_7b_subset2.loc[:, start_col2:stop_col2].div(PILS_7b_subset1, axis=0)\n",
    "PILS_7b_subset2.mean()"
   ]
  },
  {
   "cell_type": "code",
   "execution_count": 614,
   "metadata": {},
   "outputs": [
    {
     "data": {
      "text/plain": [
       "Time_Start    2022-06-07 19:07:24\n",
       "Time_Stop     2022-06-07 19:12:24\n",
       "Time_Mid      2022-06-07 19:09:54\n",
       "Sodium                   0.545755\n",
       "Potassium                0.010564\n",
       "Magnesium                0.036181\n",
       "Calcium                  0.003349\n",
       "Chloride                 0.323463\n",
       "Nitrate                  0.028771\n",
       "Sulfate                  0.049718\n",
       "Oxalate                    0.0022\n",
       "ratio                    0.592689\n",
       "dtype: object"
      ]
     },
     "execution_count": 614,
     "metadata": {},
     "output_type": "execute_result"
    }
   ],
   "source": [
    "#PILS_7b_subset2['Nso4'] = PILS_7b_subset2['Sulfate'] - (0.253 * PILS_7b_subset2['Sodium'])\n",
    "#PILS_7b_subset2['Nso4'] = PILS_7b_subset2['Sulfate'] - (0.253 * PILS_7b_subset2['Sodium'])\n",
    "PILS_7b_subset2['ratio'] = PILS_7b_subset2['Chloride'] / PILS_7b_subset2['Sodium']\n",
    "#PILS_7b_subset2['ratio'] [np.isinf(PILS_7b_subset2['ratio'] )] = 0\n",
    "PILS_7b_subset2.mean()\n"
   ]
  },
  {
   "cell_type": "code",
   "execution_count": 615,
   "metadata": {},
   "outputs": [
    {
     "data": {
      "text/plain": [
       "7.7195800000000006"
      ]
     },
     "execution_count": 615,
     "metadata": {},
     "output_type": "execute_result"
    }
   ],
   "source": [
    "PILS_7b_subset1.mean()"
   ]
  },
  {
   "cell_type": "code",
   "execution_count": 616,
   "metadata": {},
   "outputs": [
    {
     "data": {
      "text/plain": [
       "Time_Start    2022-06-08 20:32:59.500000\n",
       "Time_Stop     2022-06-08 20:37:59.500000\n",
       "Time_Mid      2022-06-08 20:35:29.500000\n",
       "Sodium                          0.321195\n",
       "Potassium                       0.005278\n",
       "Magnesium                       0.029024\n",
       "Calcium                         0.018945\n",
       "Chloride                        0.467349\n",
       "Nitrate                         0.035815\n",
       "Sulfate                         0.121537\n",
       "Oxalate                         0.000856\n",
       "dtype: object"
      ]
     },
     "execution_count": 616,
     "metadata": {},
     "output_type": "execute_result"
    }
   ],
   "source": [
    "# Specify the target timestamps\n",
    "start_time = pd.to_datetime(\"2022-06-08 20:30:00\")\n",
    "stop_time = pd.to_datetime(\"2022-06-08 20:45:00\")\n",
    "\n",
    "# Find the nearest indices to the target timestamps\n",
    "start_index = np.argmin(np.abs(ds_2020[\"Time_Start\"] - start_time))\n",
    "stop_index = np.argmin(np.abs(ds_2020[\"Time_Start\"] - stop_time))\n",
    "\n",
    "# Extract the subset of data\n",
    "PILS_8_subset = ds_2020.iloc[start_index:stop_index + 1]  # Add 1 to include the stop_index\n",
    "\n",
    "PILS_8_subset2 = PILS_8_subset.drop('Ammonium', axis=1)\n",
    "columns_to_sum = ['Sodium', 'Potassium', 'Magnesium', 'Calcium', 'Chloride', 'Nitrate', 'Sulfate', 'Oxalate']\n",
    "\n",
    "# Sum the selected columns and store the result in Africa_total1\n",
    "PILS_8_subset1 = PILS_8_subset2[columns_to_sum].sum(axis = 1)\n",
    "# Calculate the sum of values for each row (axis=1)\n",
    "\n",
    "# Calculate the sum of all the values in Africa_total1\n",
    "#Africa_total1 = Africa_total1.sum()\n",
    "\n",
    "# Specify the range of columns for division\n",
    "start_col2 = 'Sodium'\n",
    "stop_col2 = 'Oxalate'\n",
    "\n",
    "# Perform division and assign the result to the specified range of columns\n",
    "PILS_8_subset2.loc[:, start_col2:stop_col2] = PILS_8_subset2.loc[:, start_col2:stop_col2].div(PILS_8_subset1, axis=0)\n",
    "PILS_8_subset2.mean()"
   ]
  },
  {
   "cell_type": "code",
   "execution_count": 617,
   "metadata": {},
   "outputs": [
    {
     "data": {
      "text/plain": [
       "Time_Start    2022-06-08 20:32:59.500000\n",
       "Time_Stop     2022-06-08 20:37:59.500000\n",
       "Time_Mid      2022-06-08 20:35:29.500000\n",
       "Sodium                          0.321195\n",
       "Potassium                       0.005278\n",
       "Magnesium                       0.029024\n",
       "Calcium                         0.018945\n",
       "Chloride                        0.467349\n",
       "Nitrate                         0.035815\n",
       "Sulfate                         0.121537\n",
       "Oxalate                         0.000856\n",
       "Nso4                            0.040275\n",
       "ratio                           1.466748\n",
       "dtype: object"
      ]
     },
     "execution_count": 617,
     "metadata": {},
     "output_type": "execute_result"
    }
   ],
   "source": [
    "PILS_8_subset2['Nso4'] = PILS_8_subset2['Sulfate'] - (0.253 * PILS_8_subset2['Sodium'])\n",
    "PILS_8_subset2['ratio'] = PILS_8_subset2['Chloride'] / PILS_8_subset2['Sodium']\n",
    "PILS_8_subset2.mean()"
   ]
  },
  {
   "cell_type": "code",
   "execution_count": 618,
   "metadata": {},
   "outputs": [
    {
     "data": {
      "text/plain": [
       "9.629385"
      ]
     },
     "execution_count": 618,
     "metadata": {},
     "output_type": "execute_result"
    }
   ],
   "source": [
    "PILS_8_subset1.mean()"
   ]
  },
  {
   "cell_type": "code",
   "execution_count": 619,
   "metadata": {},
   "outputs": [
    {
     "data": {
      "text/plain": [
       "Time_Start    2022-06-10 15:14:19\n",
       "Time_Stop     2022-06-10 15:19:19\n",
       "Time_Mid      2022-06-10 15:16:49\n",
       "Sodium                   0.255946\n",
       "Potassium                0.003973\n",
       "Magnesium                0.012827\n",
       "Calcium                  0.010569\n",
       "Chloride                 0.417275\n",
       "Nitrate                  0.093661\n",
       "Sulfate                  0.205049\n",
       "Oxalate                    0.0007\n",
       "dtype: object"
      ]
     },
     "execution_count": 619,
     "metadata": {},
     "output_type": "execute_result"
    }
   ],
   "source": [
    "\n",
    "# Specify the target timestamps\n",
    "start_time = pd.to_datetime(\"2022-06-10 15:17:00\")\n",
    "stop_time = pd.to_datetime(\"2022-06-10 15:25:00\")\n",
    "\n",
    "# Find the nearest indices to the target timestamps\n",
    "start_index = np.argmin(np.abs(ds_2020[\"Time_Start\"] - start_time))\n",
    "stop_index = np.argmin(np.abs(ds_2020[\"Time_Start\"] - stop_time))\n",
    "\n",
    "# Extract the subset of data\n",
    "PILS_10_subset = ds_2020.iloc[start_index:stop_index + 1]  # Add 1 to include the stop_index\n",
    "\n",
    "PILS_10_subset2 = PILS_10_subset.drop('Ammonium', axis=1)\n",
    "columns_to_sum = ['Sodium', 'Potassium', 'Magnesium', 'Calcium', 'Chloride', 'Nitrate', 'Sulfate', 'Oxalate']\n",
    "\n",
    "# Sum the selected columns and store the result in Africa_total1\n",
    "PILS_10_subset1 = PILS_10_subset2[columns_to_sum].sum(axis = 1)\n",
    "# Calculate the sum of values for each row (axis=1)\n",
    "\n",
    "# Calculate the sum of all the values in Africa_total1\n",
    "#Africa_total1 = Africa_total1.sum()\n",
    "\n",
    "# Specify the range of columns for division\n",
    "start_col2 = 'Sodium'\n",
    "stop_col2 = 'Oxalate'\n",
    "\n",
    "# Perform division and assign the result to the specified range of columns\n",
    "PILS_10_subset2.loc[:, start_col2:stop_col2] = PILS_10_subset2.loc[:, start_col2:stop_col2].div(PILS_10_subset1, axis=0)\n",
    "PILS_10_subset2.mean()"
   ]
  },
  {
   "cell_type": "code",
   "execution_count": 620,
   "metadata": {},
   "outputs": [
    {
     "data": {
      "text/plain": [
       "Time_Start    2022-06-10 15:14:19\n",
       "Time_Stop     2022-06-10 15:19:19\n",
       "Time_Mid      2022-06-10 15:16:49\n",
       "Sodium                   0.255946\n",
       "Potassium                0.003973\n",
       "Magnesium                0.012827\n",
       "Calcium                  0.010569\n",
       "Chloride                 0.417275\n",
       "Nitrate                  0.093661\n",
       "Sulfate                  0.205049\n",
       "Oxalate                    0.0007\n",
       "Nso4                     0.140295\n",
       "ratio                    1.630322\n",
       "dtype: object"
      ]
     },
     "execution_count": 620,
     "metadata": {},
     "output_type": "execute_result"
    }
   ],
   "source": [
    "PILS_10_subset2['Nso4'] = PILS_10_subset2['Sulfate'] - (0.253 * PILS_10_subset2['Sodium'])\n",
    "PILS_10_subset2['ratio'] = PILS_10_subset2['Chloride'] / PILS_10_subset2['Sodium']\n",
    "PILS_10_subset2.mean()"
   ]
  },
  {
   "cell_type": "code",
   "execution_count": 621,
   "metadata": {},
   "outputs": [
    {
     "data": {
      "text/plain": [
       "7.525021"
      ]
     },
     "execution_count": 621,
     "metadata": {},
     "output_type": "execute_result"
    }
   ],
   "source": [
    "PILS_10_subset1.mean()"
   ]
  },
  {
   "cell_type": "code",
   "execution_count": 622,
   "metadata": {},
   "outputs": [
    {
     "data": {
      "text/plain": [
       "Time_Start    2022-06-10 19:34:14.500000\n",
       "Time_Stop     2022-06-10 19:39:14.500000\n",
       "Time_Mid      2022-06-10 19:36:44.500000\n",
       "Sodium                          0.359135\n",
       "Potassium                       0.011065\n",
       "Magnesium                        0.03299\n",
       "Calcium                         0.030949\n",
       "Chloride                        0.154497\n",
       "Nitrate                         0.178926\n",
       "Sulfate                         0.229993\n",
       "Oxalate                         0.002445\n",
       "dtype: object"
      ]
     },
     "execution_count": 622,
     "metadata": {},
     "output_type": "execute_result"
    }
   ],
   "source": [
    "# Specify the target timestamps\n",
    "start_time = pd.to_datetime(\"2022-06-10 19:30:00\")\n",
    "stop_time = pd.to_datetime(\"2022-06-10 19:51:00\")\n",
    "\n",
    "# Find the nearest indices to the target timestamps\n",
    "start_index = np.argmin(np.abs(ds_2020[\"Time_Start\"] - start_time))\n",
    "stop_index = np.argmin(np.abs(ds_2020[\"Time_Start\"] - stop_time))\n",
    "\n",
    "# Extract the subset of data\n",
    "PILS_10b_subset = ds_2020.iloc[start_index:stop_index + 1]  # Add 1 to include the stop_index\n",
    "PILS_10b_subset2 = PILS_10b_subset.drop('Ammonium', axis=1)\n",
    "columns_to_sum = ['Sodium', 'Potassium', 'Magnesium', 'Calcium', 'Chloride', 'Nitrate', 'Sulfate', 'Oxalate']\n",
    "\n",
    "# Sum the selected columns and store the result in Africa_total1\n",
    "PILS_10b_subset1 = PILS_10b_subset2[columns_to_sum].sum(axis = 1)\n",
    "# Calculate the sum of values for each row (axis=1)\n",
    "\n",
    "# Calculate the sum of all the values in Africa_total1\n",
    "#Africa_total1 = Africa_total1.sum()\n",
    "\n",
    "# Specify the range of columns for division\n",
    "start_col2 = 'Sodium'\n",
    "stop_col2 = 'Oxalate'\n",
    "\n",
    "# Perform division and assign the result to the specified range of columns\n",
    "PILS_10b_subset2.loc[:, start_col2:stop_col2] = PILS_10b_subset2.loc[:, start_col2:stop_col2].div(PILS_10b_subset1, axis=0)\n",
    "\n",
    "# Perform division and assign the result to the specified range of columns\n",
    "PILS_10b_subset2.mean()"
   ]
  },
  {
   "cell_type": "code",
   "execution_count": 623,
   "metadata": {},
   "outputs": [
    {
     "data": {
      "text/plain": [
       "Time_Start    2022-06-10 19:34:14.500000\n",
       "Time_Stop     2022-06-10 19:39:14.500000\n",
       "Time_Mid      2022-06-10 19:36:44.500000\n",
       "Sodium                          0.359135\n",
       "Potassium                       0.011065\n",
       "Magnesium                        0.03299\n",
       "Calcium                         0.030949\n",
       "Chloride                        0.154497\n",
       "Nitrate                         0.178926\n",
       "Sulfate                         0.229993\n",
       "Oxalate                         0.002445\n",
       "Nso4                            0.139132\n",
       "ratio                           0.606641\n",
       "dtype: object"
      ]
     },
     "execution_count": 623,
     "metadata": {},
     "output_type": "execute_result"
    }
   ],
   "source": [
    "PILS_10b_subset2['Nso4'] = PILS_10b_subset2['Sulfate'] - (0.253 * PILS_10b_subset2['Sodium'])\n",
    "PILS_10b_subset2['ratio'] = PILS_10b_subset2['Chloride'] / PILS_10b_subset2['Sodium']\n",
    "PILS_10b_subset2.mean()"
   ]
  },
  {
   "cell_type": "code",
   "execution_count": 624,
   "metadata": {},
   "outputs": [
    {
     "data": {
      "text/plain": [
       "3.6980855"
      ]
     },
     "execution_count": 624,
     "metadata": {},
     "output_type": "execute_result"
    }
   ],
   "source": [
    "PILS_10b_subset1.mean()"
   ]
  },
  {
   "cell_type": "code",
   "execution_count": 625,
   "metadata": {},
   "outputs": [
    {
     "data": {
      "text/plain": [
       "Time_Start    2022-06-10 20:25:24.500000\n",
       "Time_Stop     2022-06-10 20:30:24.500000\n",
       "Time_Mid      2022-06-10 20:27:54.500000\n",
       "Sodium                          0.195736\n",
       "Potassium                       0.010996\n",
       "Magnesium                       0.024598\n",
       "Calcium                         0.010823\n",
       "Chloride                        0.300629\n",
       "Nitrate                         0.181603\n",
       "Sulfate                           0.2689\n",
       "Oxalate                         0.006715\n",
       "dtype: object"
      ]
     },
     "execution_count": 625,
     "metadata": {},
     "output_type": "execute_result"
    }
   ],
   "source": [
    "# Specify the target timestamps\n",
    "start_time = pd.to_datetime(\"2022-06-10 20:25:00\")\n",
    "stop_time = pd.to_datetime(\"2022-06-10 20:35:00\")\n",
    "\n",
    "# Find the nearest indices to the target timestamps\n",
    "start_index = np.argmin(np.abs(ds_2020[\"Time_Start\"] - start_time))\n",
    "stop_index = np.argmin(np.abs(ds_2020[\"Time_Start\"] - stop_time))\n",
    "\n",
    "# Extract the subset of data\n",
    "PILS_10c_subset = ds_2020.iloc[start_index:stop_index + 1]  # Add 1 to include the stop_index\n",
    "PILS_10c_subset2 = PILS_10c_subset.drop('Ammonium', axis=1)\n",
    "columns_to_sum = ['Sodium', 'Potassium', 'Magnesium', 'Calcium', 'Chloride', 'Nitrate', 'Sulfate', 'Oxalate']\n",
    "\n",
    "# Sum the selected columns and store the result in Africa_total1\n",
    "PILS_10c_subset1 = PILS_10c_subset2[columns_to_sum].sum(axis = 1)\n",
    "# Calculate the sum of values for each row (axis=1)\n",
    "\n",
    "# Calculate the sum of all the values in Africa_total1\n",
    "#Africa_total1 = Africa_total1.sum()\n",
    "\n",
    "# Specify the range of columns for division\n",
    "start_col2 = 'Sodium'\n",
    "stop_col2 = 'Oxalate'\n",
    "\n",
    "# Perform division and assign the result to the specified range of columns\n",
    "PILS_10c_subset2.loc[:, start_col2:stop_col2] = PILS_10c_subset2.loc[:, start_col2:stop_col2].div(PILS_10c_subset1, axis=0)\n",
    "PILS_10c_subset2.mean()"
   ]
  },
  {
   "cell_type": "code",
   "execution_count": 626,
   "metadata": {},
   "outputs": [
    {
     "data": {
      "text/plain": [
       "Time_Start    2022-06-10 20:25:24.500000\n",
       "Time_Stop     2022-06-10 20:30:24.500000\n",
       "Time_Mid      2022-06-10 20:27:54.500000\n",
       "Sodium                          0.195736\n",
       "Potassium                       0.010996\n",
       "Magnesium                       0.024598\n",
       "Calcium                         0.010823\n",
       "Chloride                        0.300629\n",
       "Nitrate                         0.181603\n",
       "Sulfate                           0.2689\n",
       "Oxalate                         0.006715\n",
       "Nso4                            0.219379\n",
       "ratio                           1.517719\n",
       "dtype: object"
      ]
     },
     "execution_count": 626,
     "metadata": {},
     "output_type": "execute_result"
    }
   ],
   "source": [
    "PILS_10c_subset2['Nso4'] = PILS_10c_subset2['Sulfate'] - (0.253 * PILS_10c_subset2['Sodium'])\n",
    "PILS_10c_subset2['ratio'] = PILS_10c_subset2['Chloride'] / PILS_10c_subset2['Sodium']\n",
    "PILS_10c_subset2.mean()"
   ]
  },
  {
   "cell_type": "code",
   "execution_count": 627,
   "metadata": {},
   "outputs": [
    {
     "data": {
      "text/plain": [
       "7.467865"
      ]
     },
     "execution_count": 627,
     "metadata": {},
     "output_type": "execute_result"
    }
   ],
   "source": [
    "PILS_10c_subset1.mean()"
   ]
  },
  {
   "cell_type": "code",
   "execution_count": 628,
   "metadata": {},
   "outputs": [
    {
     "data": {
      "text/plain": [
       "Time_Start    2022-06-11 15:27:10\n",
       "Time_Stop     2022-06-11 15:32:10\n",
       "Time_Mid      2022-06-11 15:29:40\n",
       "Sodium                   0.223615\n",
       "Potassium                0.015436\n",
       "Magnesium                0.030409\n",
       "Calcium                  0.067789\n",
       "Chloride                 0.189828\n",
       "Nitrate                  0.226372\n",
       "Sulfate                  0.241657\n",
       "Oxalate                  0.004895\n",
       "dtype: object"
      ]
     },
     "execution_count": 628,
     "metadata": {},
     "output_type": "execute_result"
    }
   ],
   "source": [
    "# Specify the target timestamps\n",
    "start_time = pd.to_datetime(\"2022-06-11 15:24:00\")\n",
    "stop_time = pd.to_datetime(\"2022-06-11 15:42:00\")\n",
    "\n",
    "# Find the nearest indices to the target timestamps\n",
    "start_index = np.argmin(np.abs(ds_2020[\"Time_Start\"] - start_time))\n",
    "stop_index = np.argmin(np.abs(ds_2020[\"Time_Start\"] - stop_time))\n",
    "\n",
    "# Extract the subset of data\n",
    "PILS_11_subset = ds_2020.iloc[start_index:stop_index + 1]  # Add 1 to include the stop_index\n",
    "\n",
    "PILS_11_subset2 = PILS_11_subset.drop('Ammonium', axis=1)\n",
    "columns_to_sum = ['Sodium', 'Potassium', 'Magnesium', 'Calcium', 'Chloride', 'Nitrate', 'Sulfate', 'Oxalate']\n",
    "\n",
    "# Sum the selected columns and store the result in Africa_total1\n",
    "PILS_11_subset1 = PILS_11_subset2[columns_to_sum].sum(axis = 1)\n",
    "# Calculate the sum of values for each row (axis=1)\n",
    "\n",
    "# Calculate the sum of all the values in Africa_total1\n",
    "#Africa_total1 = Africa_total1.sum()\n",
    "\n",
    "# Specify the range of columns for division\n",
    "start_col2 = 'Sodium'\n",
    "stop_col2 = 'Oxalate'\n",
    "\n",
    "# Perform division and assign the result to the specified range of columns\n",
    "PILS_11_subset2.loc[:, start_col2:stop_col2] = PILS_11_subset2.loc[:, start_col2:stop_col2].div(PILS_11_subset1, axis=0)\n",
    "PILS_11_subset2.mean()"
   ]
  },
  {
   "cell_type": "code",
   "execution_count": 629,
   "metadata": {},
   "outputs": [
    {
     "data": {
      "text/plain": [
       "Time_Start    2022-06-11 15:27:10\n",
       "Time_Stop     2022-06-11 15:32:10\n",
       "Time_Mid      2022-06-11 15:29:40\n",
       "Sodium                   0.223615\n",
       "Potassium                0.015436\n",
       "Magnesium                0.030409\n",
       "Calcium                  0.067789\n",
       "Chloride                 0.189828\n",
       "Nitrate                  0.226372\n",
       "Sulfate                  0.241657\n",
       "Oxalate                  0.004895\n",
       "Nso4                     0.185083\n",
       "ratio                    0.848904\n",
       "dtype: object"
      ]
     },
     "execution_count": 629,
     "metadata": {},
     "output_type": "execute_result"
    }
   ],
   "source": [
    "PILS_11_subset2['Nso4'] = PILS_11_subset2['Sulfate'] - (0.253 * PILS_11_subset2['Sodium'])\n",
    "PILS_11_subset2['ratio'] = PILS_11_subset2['Chloride'] / PILS_11_subset2['Sodium']\n",
    "PILS_11_subset2.mean()"
   ]
  },
  {
   "cell_type": "code",
   "execution_count": 630,
   "metadata": {},
   "outputs": [
    {
     "data": {
      "text/plain": [
       "3.26454"
      ]
     },
     "execution_count": 630,
     "metadata": {},
     "output_type": "execute_result"
    }
   ],
   "source": [
    "PILS_11_subset1.mean()"
   ]
  },
  {
   "cell_type": "code",
   "execution_count": 631,
   "metadata": {},
   "outputs": [
    {
     "data": {
      "text/plain": [
       "Time_Start    2022-06-11 20:11:30\n",
       "Time_Stop     2022-06-11 20:16:30\n",
       "Time_Mid      2022-06-11 20:14:00\n",
       "Sodium                    0.09141\n",
       "Potassium                 0.02414\n",
       "Magnesium                0.057263\n",
       "Calcium                  0.070693\n",
       "Chloride                 0.134153\n",
       "Nitrate                  0.291085\n",
       "Sulfate                  0.277312\n",
       "Oxalate                  0.053944\n",
       "dtype: object"
      ]
     },
     "execution_count": 631,
     "metadata": {},
     "output_type": "execute_result"
    }
   ],
   "source": [
    "# Specify the target timestamps\n",
    "start_time = pd.to_datetime(\"2022-06-11 20:08:00\")\n",
    "stop_time = pd.to_datetime(\"2022-06-11 20:16:00\")\n",
    "\n",
    "# Find the nearest indices to the target timestamps\n",
    "start_index = np.argmin(np.abs(ds_2020[\"Time_Start\"] - start_time))\n",
    "stop_index = np.argmin(np.abs(ds_2020[\"Time_Start\"] - stop_time))\n",
    "\n",
    "# Extract the subset of data\n",
    "PILS_11b_subset = ds_2020.iloc[start_index:stop_index + 1]  # Add 1 to include the stop_index\n",
    "PILS_11b_subset2 = PILS_11b_subset.drop('Ammonium', axis=1)\n",
    "columns_to_sum = ['Sodium', 'Potassium', 'Magnesium', 'Calcium', 'Chloride', 'Nitrate', 'Sulfate', 'Oxalate']\n",
    "\n",
    "# Sum the selected columns and store the result in Africa_total1\n",
    "PILS_11b_subset1 = PILS_11b_subset2[columns_to_sum].sum(axis = 1)\n",
    "# Calculate the sum of values for each row (axis=1)\n",
    "\n",
    "# Calculate the sum of all the values in Africa_total1\n",
    "#Africa_total1 = Africa_total1.sum()\n",
    "\n",
    "# Specify the range of columns for division\n",
    "start_col2 = 'Sodium'\n",
    "stop_col2 = 'Oxalate'\n",
    "\n",
    "# Perform division and assign the result to the specified range of columns\n",
    "PILS_11b_subset2.loc[:, start_col2:stop_col2] = PILS_11b_subset2.loc[:, start_col2:stop_col2].div(PILS_11b_subset1, axis=0)\n",
    "\n",
    "PILS_11b_subset2.mean()"
   ]
  },
  {
   "cell_type": "code",
   "execution_count": 632,
   "metadata": {},
   "outputs": [
    {
     "data": {
      "text/plain": [
       "Time_Start    2022-06-11 20:11:30\n",
       "Time_Stop     2022-06-11 20:16:30\n",
       "Time_Mid      2022-06-11 20:14:00\n",
       "Sodium                    0.09141\n",
       "Potassium                 0.02414\n",
       "Magnesium                0.057263\n",
       "Calcium                  0.070693\n",
       "Chloride                 0.134153\n",
       "Nitrate                  0.291085\n",
       "Sulfate                  0.277312\n",
       "Oxalate                  0.053944\n",
       "Nso4                     0.254185\n",
       "ratio                    2.178497\n",
       "dtype: object"
      ]
     },
     "execution_count": 632,
     "metadata": {},
     "output_type": "execute_result"
    }
   ],
   "source": [
    "PILS_11b_subset2['Nso4'] = PILS_11b_subset2['Sulfate'] - (0.253 * PILS_11b_subset2['Sodium'])\n",
    "PILS_11b_subset2['ratio'] = PILS_11b_subset2['Chloride'] / PILS_11b_subset2['Sodium']\n",
    "PILS_11b_subset2.mean()"
   ]
  },
  {
   "cell_type": "code",
   "execution_count": 633,
   "metadata": {},
   "outputs": [
    {
     "data": {
      "text/plain": [
       "5.6376599999999994"
      ]
     },
     "execution_count": 633,
     "metadata": {},
     "output_type": "execute_result"
    }
   ],
   "source": [
    "PILS_11b_subset1.mean()"
   ]
  },
  {
   "cell_type": "code",
   "execution_count": 634,
   "metadata": {},
   "outputs": [
    {
     "data": {
      "text/plain": [
       "Time_Start    2022-06-13 14:38:06.999999744\n",
       "Time_Stop     2022-06-13 14:43:01.666666496\n",
       "Time_Mid      2022-06-13 14:40:34.333333504\n",
       "Sodium                             0.201648\n",
       "Potassium                          0.009431\n",
       "Magnesium                           0.02587\n",
       "Calcium                            0.021962\n",
       "Chloride                           0.291789\n",
       "Nitrate                            0.175438\n",
       "Sulfate                            0.268359\n",
       "Oxalate                            0.005503\n",
       "dtype: object"
      ]
     },
     "execution_count": 634,
     "metadata": {},
     "output_type": "execute_result"
    }
   ],
   "source": [
    "# Specify the target timestamps\n",
    "start_time = pd.to_datetime(\"2022-06-13 14:30:00\")\n",
    "stop_time = pd.to_datetime(\"2022-06-13 14:46:00\")\n",
    "\n",
    "# Find the nearest indices to the target timestamps\n",
    "start_index = np.argmin(np.abs(ds_2020[\"Time_Start\"] - start_time))\n",
    "stop_index = np.argmin(np.abs(ds_2020[\"Time_Start\"] - stop_time))\n",
    "\n",
    "# Extract the subset of data\n",
    "PILS_13_subset = ds_2020.iloc[start_index:stop_index + 1]  # Add 1 to include the stop_index\n",
    "PILS_13_subset2 = PILS_13_subset.drop('Ammonium', axis=1)\n",
    "columns_to_sum = ['Sodium', 'Potassium', 'Magnesium', 'Calcium', 'Chloride', 'Nitrate', 'Sulfate', 'Oxalate']\n",
    "\n",
    "# Sum the selected columns and store the result in Africa_total1\n",
    "PILS_13_subset1 = PILS_13_subset2[columns_to_sum].sum(axis = 1)\n",
    "# Calculate the sum of values for each row (axis=1)\n",
    "\n",
    "# Calculate the sum of all the values in Africa_total1\n",
    "#Africa_total1 = Africa_total1.sum()\n",
    "\n",
    "# Specify the range of columns for division\n",
    "start_col2 = 'Sodium'\n",
    "stop_col2 = 'Oxalate'\n",
    "\n",
    "# Perform division and assign the result to the specified range of columns\n",
    "PILS_13_subset2.loc[:, start_col2:stop_col2] = PILS_13_subset2.loc[:, start_col2:stop_col2].div(PILS_13_subset1, axis=0)\n",
    "PILS_13_subset2.mean()"
   ]
  },
  {
   "cell_type": "code",
   "execution_count": 635,
   "metadata": {},
   "outputs": [
    {
     "data": {
      "text/plain": [
       "Time_Start    2022-06-13 14:38:06.999999744\n",
       "Time_Stop     2022-06-13 14:43:01.666666496\n",
       "Time_Mid      2022-06-13 14:40:34.333333504\n",
       "Sodium                             0.201648\n",
       "Potassium                          0.009431\n",
       "Magnesium                           0.02587\n",
       "Calcium                            0.021962\n",
       "Chloride                           0.291789\n",
       "Nitrate                            0.175438\n",
       "Sulfate                            0.268359\n",
       "Oxalate                            0.005503\n",
       "Nso4                               0.217342\n",
       "ratio                              1.452314\n",
       "dtype: object"
      ]
     },
     "execution_count": 635,
     "metadata": {},
     "output_type": "execute_result"
    }
   ],
   "source": [
    "PILS_13_subset2['Nso4'] = PILS_13_subset2['Sulfate'] - (0.253 * PILS_13_subset2['Sodium'])\n",
    "PILS_13_subset2['ratio'] = PILS_13_subset2['Chloride'] / PILS_13_subset2['Sodium']\n",
    "PILS_13_subset2.mean()"
   ]
  },
  {
   "cell_type": "code",
   "execution_count": 636,
   "metadata": {},
   "outputs": [
    {
     "data": {
      "text/plain": [
       "5.30466"
      ]
     },
     "execution_count": 636,
     "metadata": {},
     "output_type": "execute_result"
    }
   ],
   "source": [
    "PILS_13_subset1.mean()"
   ]
  },
  {
   "cell_type": "code",
   "execution_count": 637,
   "metadata": {},
   "outputs": [
    {
     "data": {
      "text/plain": [
       "Time_Start    2022-06-13 19:47:13\n",
       "Time_Stop     2022-06-13 19:52:13\n",
       "Time_Mid      2022-06-13 19:49:43\n",
       "Sodium                   0.084765\n",
       "Potassium                 0.04707\n",
       "Magnesium                0.036042\n",
       "Calcium                  0.311758\n",
       "Chloride                 0.127417\n",
       "Nitrate                  0.155545\n",
       "Sulfate                  0.232301\n",
       "Oxalate                  0.005101\n",
       "dtype: object"
      ]
     },
     "execution_count": 637,
     "metadata": {},
     "output_type": "execute_result"
    }
   ],
   "source": [
    "# Specify the target timestamps\n",
    "start_time = pd.to_datetime(\"2022-06-13 19:46:00\")\n",
    "stop_time = pd.to_datetime(\"2022-06-13 20:09:00\")\n",
    "\n",
    "# Find the nearest indices to the target timestamps\n",
    "start_index = np.argmin(np.abs(ds_2020[\"Time_Start\"] - start_time))\n",
    "stop_index = np.argmin(np.abs(ds_2020[\"Time_Start\"] - stop_time))\n",
    "\n",
    "# Extract the subset of data\n",
    "PILS_13b_subset = ds_2020.iloc[start_index:stop_index + 1]  # Add 1 to include the stop_index\n",
    "PILS_13b_subset2 = PILS_13b_subset.drop('Ammonium', axis=1)\n",
    "columns_to_sum = ['Sodium', 'Potassium', 'Magnesium', 'Calcium', 'Chloride', 'Nitrate', 'Sulfate', 'Oxalate']\n",
    "\n",
    "# Sum the selected columns and store the result in Africa_total1\n",
    "PILS_13b_subset1 = PILS_13b_subset2[columns_to_sum].sum(axis = 1)\n",
    "# Calculate the sum of values for each row (axis=1)\n",
    "\n",
    "# Calculate the sum of all the values in Africa_total1\n",
    "#Africa_total1 = Africa_total1.sum()\n",
    "\n",
    "# Specify the range of columns for division\n",
    "start_col2 = 'Sodium'\n",
    "stop_col2 = 'Oxalate'\n",
    "\n",
    "# Perform division and assign the result to the specified range of columns\n",
    "PILS_13b_subset2.loc[:, start_col2:stop_col2] = PILS_13b_subset2.loc[:, start_col2:stop_col2].div(PILS_13b_subset1, axis=0)\n",
    "PILS_13b_subset2.mean()"
   ]
  },
  {
   "cell_type": "code",
   "execution_count": 638,
   "metadata": {},
   "outputs": [
    {
     "data": {
      "text/plain": [
       "Time_Start    2022-06-13 19:47:13\n",
       "Time_Stop     2022-06-13 19:52:13\n",
       "Time_Mid      2022-06-13 19:49:43\n",
       "Sodium                   0.084765\n",
       "Potassium                 0.04707\n",
       "Magnesium                0.036042\n",
       "Calcium                  0.311758\n",
       "Chloride                 0.127417\n",
       "Nitrate                  0.155545\n",
       "Sulfate                  0.232301\n",
       "Oxalate                  0.005101\n",
       "Nso4                     0.210855\n",
       "ratio                    1.503187\n",
       "dtype: object"
      ]
     },
     "execution_count": 638,
     "metadata": {},
     "output_type": "execute_result"
    }
   ],
   "source": [
    "PILS_13b_subset2['Nso4'] = PILS_13b_subset2['Sulfate'] - (0.253 * PILS_13b_subset2['Sodium'])\n",
    "PILS_13b_subset2['ratio'] = PILS_13b_subset2['Chloride'] / PILS_13b_subset2['Sodium']\n",
    "PILS_13b_subset2.mean()"
   ]
  },
  {
   "cell_type": "code",
   "execution_count": 639,
   "metadata": {},
   "outputs": [
    {
     "data": {
      "text/plain": [
       "3.14635"
      ]
     },
     "execution_count": 639,
     "metadata": {},
     "output_type": "execute_result"
    }
   ],
   "source": [
    "PILS_13b_subset1.mean()"
   ]
  },
  {
   "cell_type": "code",
   "execution_count": 640,
   "metadata": {},
   "outputs": [
    {
     "data": {
      "text/plain": [
       "Time_Start    2022-06-14 16:02:11\n",
       "Time_Stop     2022-06-14 16:07:11\n",
       "Time_Mid      2022-06-14 16:04:41\n",
       "Sodium                   0.154587\n",
       "Potassium                0.007378\n",
       "Magnesium                0.022808\n",
       "Calcium                  0.030114\n",
       "Chloride                 0.199888\n",
       "Nitrate                  0.271856\n",
       "Sulfate                  0.309952\n",
       "Oxalate                  0.003416\n",
       "dtype: object"
      ]
     },
     "execution_count": 640,
     "metadata": {},
     "output_type": "execute_result"
    }
   ],
   "source": [
    "# Specify the target timestamps\n",
    "start_time = pd.to_datetime(\"2022-06-14 16:05:00\")\n",
    "stop_time = pd.to_datetime(\"2022-06-14 16:25:00\")\n",
    "\n",
    "# Find the nearest indices to the target timestamps\n",
    "start_index = np.argmin(np.abs(ds_2020[\"Time_Start\"] - start_time))\n",
    "stop_index = np.argmin(np.abs(ds_2020[\"Time_Start\"] - stop_time))\n",
    "\n",
    "# Extract the subset of data\n",
    "PILS_14_subset = ds_2020.iloc[start_index:stop_index + 1]  # Add 1 to include the stop_index\n",
    "PILS_14_subset2 = PILS_14_subset.drop('Ammonium', axis=1)\n",
    "columns_to_sum = ['Sodium', 'Potassium', 'Magnesium', 'Calcium', 'Chloride', 'Nitrate', 'Sulfate', 'Oxalate']\n",
    "\n",
    "# Sum the selected columns and store the result in Africa_total1\n",
    "PILS_14_subset1 = PILS_14_subset2[columns_to_sum].sum(axis = 1)\n",
    "# Calculate the sum of values for each row (axis=1)\n",
    "\n",
    "# Calculate the sum of all the values in Africa_total1\n",
    "#Africa_total1 = Africa_total1.sum()\n",
    "\n",
    "# Specify the range of columns for division\n",
    "start_col2 = 'Sodium'\n",
    "stop_col2 = 'Oxalate'\n",
    "\n",
    "# Perform division and assign the result to the specified range of columns\n",
    "PILS_14_subset2.loc[:, start_col2:stop_col2] = PILS_14_subset2.loc[:, start_col2:stop_col2].div(PILS_14_subset1, axis=0)\n",
    "PILS_14_subset2.mean()"
   ]
  },
  {
   "cell_type": "code",
   "execution_count": 641,
   "metadata": {},
   "outputs": [
    {
     "data": {
      "text/plain": [
       "Time_Start    2022-06-14 16:02:11\n",
       "Time_Stop     2022-06-14 16:07:11\n",
       "Time_Mid      2022-06-14 16:04:41\n",
       "Sodium                   0.154587\n",
       "Potassium                0.007378\n",
       "Magnesium                0.022808\n",
       "Calcium                  0.030114\n",
       "Chloride                 0.199888\n",
       "Nitrate                  0.271856\n",
       "Sulfate                  0.309952\n",
       "Oxalate                  0.003416\n",
       "Nso4                     0.270842\n",
       "ratio                    1.293043\n",
       "dtype: object"
      ]
     },
     "execution_count": 641,
     "metadata": {},
     "output_type": "execute_result"
    }
   ],
   "source": [
    "PILS_14_subset2['Nso4'] = PILS_14_subset2['Sulfate'] - (0.253 * PILS_14_subset2['Sodium'])\n",
    "PILS_14_subset2['ratio'] = PILS_14_subset2['Chloride'] / PILS_14_subset2['Sodium']\n",
    "PILS_14_subset2.mean()"
   ]
  },
  {
   "cell_type": "code",
   "execution_count": 642,
   "metadata": {},
   "outputs": [
    {
     "data": {
      "text/plain": [
       "3.85866"
      ]
     },
     "execution_count": 642,
     "metadata": {},
     "output_type": "execute_result"
    }
   ],
   "source": [
    "PILS_14_subset1.mean()"
   ]
  },
  {
   "cell_type": "code",
   "execution_count": 643,
   "metadata": {},
   "outputs": [
    {
     "data": {
      "text/plain": [
       "Time_Start    2022-06-17 16:23:09.500000\n",
       "Time_Stop     2022-06-17 16:28:09.500000\n",
       "Time_Mid      2022-06-17 16:25:39.500000\n",
       "Sodium                          0.280222\n",
       "Potassium                       0.008736\n",
       "Magnesium                       0.025071\n",
       "Calcium                         0.002052\n",
       "Chloride                         0.43273\n",
       "Nitrate                         0.117366\n",
       "Sulfate                         0.132869\n",
       "Oxalate                         0.000953\n",
       "dtype: object"
      ]
     },
     "execution_count": 643,
     "metadata": {},
     "output_type": "execute_result"
    }
   ],
   "source": [
    "# Specify the target timestamps\n",
    "start_time = pd.to_datetime(\"2022-06-17 16:20:00\")\n",
    "stop_time = pd.to_datetime(\"2022-06-17 16:47:00\")\n",
    "\n",
    "# Find the nearest indices to the target timestamps\n",
    "start_index = np.argmin(np.abs(ds_2020[\"Time_Start\"] - start_time))\n",
    "stop_index = np.argmin(np.abs(ds_2020[\"Time_Start\"] - stop_time))\n",
    "\n",
    "# Extract the subset of data\n",
    "PILS_17_subset = ds_2020.iloc[start_index:stop_index + 1]  # Add 1 to include the stop_index\n",
    "PILS_17_subset2 = PILS_17_subset.drop('Ammonium', axis=1)\n",
    "columns_to_sum = ['Sodium', 'Potassium', 'Magnesium', 'Calcium', 'Chloride', 'Nitrate', 'Sulfate', 'Oxalate']\n",
    "\n",
    "# Sum the selected columns and store the result in Africa_total1\n",
    "PILS_17_subset1 = PILS_17_subset2[columns_to_sum].sum(axis = 1)\n",
    "# Calculate the sum of values for each row (axis=1)\n",
    "\n",
    "# Calculate the sum of all the values in Africa_total1\n",
    "#Africa_total1 = Africa_total1.sum()\n",
    "\n",
    "# Specify the range of columns for division\n",
    "start_col2 = 'Sodium'\n",
    "stop_col2 = 'Oxalate'\n",
    "\n",
    "# Perform division and assign the result to the specified range of columns\n",
    "PILS_17_subset2.loc[:, start_col2:stop_col2] = PILS_17_subset2.loc[:, start_col2:stop_col2].div(PILS_17_subset1, axis=0)\n",
    "PILS_17_subset2.mean()"
   ]
  },
  {
   "cell_type": "code",
   "execution_count": 644,
   "metadata": {},
   "outputs": [
    {
     "data": {
      "text/plain": [
       "Time_Start    2022-06-17 16:23:09.500000\n",
       "Time_Stop     2022-06-17 16:28:09.500000\n",
       "Time_Mid      2022-06-17 16:25:39.500000\n",
       "Sodium                          0.280222\n",
       "Potassium                       0.008736\n",
       "Magnesium                       0.025071\n",
       "Calcium                         0.002052\n",
       "Chloride                         0.43273\n",
       "Nitrate                         0.117366\n",
       "Sulfate                         0.132869\n",
       "Oxalate                         0.000953\n",
       "Nso4                            0.061973\n",
       "ratio                           1.542886\n",
       "dtype: object"
      ]
     },
     "execution_count": 644,
     "metadata": {},
     "output_type": "execute_result"
    }
   ],
   "source": [
    "PILS_17_subset2['Nso4'] = PILS_17_subset2['Sulfate'] - (0.253 * PILS_17_subset2['Sodium'])\n",
    "PILS_17_subset2['ratio'] = PILS_17_subset2['Chloride'] / PILS_17_subset2['Sodium']\n",
    "PILS_17_subset2.mean()"
   ]
  },
  {
   "cell_type": "code",
   "execution_count": 645,
   "metadata": {},
   "outputs": [
    {
     "data": {
      "text/plain": [
       "12.904860000000001"
      ]
     },
     "execution_count": 645,
     "metadata": {},
     "output_type": "execute_result"
    }
   ],
   "source": [
    "PILS_17_subset1.mean()"
   ]
  },
  {
   "cell_type": "code",
   "execution_count": 646,
   "metadata": {},
   "outputs": [
    {
     "data": {
      "text/plain": [
       "\"# Concatenate the dataframes vertically (along rows)\\nAfrica_total = pd.concat([PILS_13_subset2, PILS_13b_subset2, PILS_14_subset2], axis=0)\\nAfrica_total.reset_index(drop=True, inplace=True)\\n#Africa_total2 = Africa_total.drop('Ammonium', axis=1)\\nAfrica_total.mean()\\n\\n# Select the columns you want to sum\\n#columns_to_sum = ['Sodium', 'Potassium', 'Magnesium', 'Calcium', 'Chloride', 'Nitrate', 'Sulfate', 'Oxalate']\\n\\n# Sum the selected columns and store the result in Africa_total1\\n#Africa_total1 = Africa_total2[columns_to_sum].sum(axis = 1)\\n# Calculate the sum of values for each row (axis=1)\\n\\n# Calculate the sum of all the values in Africa_total1\\n#Africa_total1 = Africa_total1.sum()\\n\\n#Africa_total1\\n# Specify the range of columns for division\\n#start_col2 = 'Sodium'\\n#stop_col2 = 'Oxalate'\\n\\n# Perform division and assign the result to the specified range of columns\\n#Africa_total2.loc[:, start_col2:stop_col2] = Africa_total2.loc[:, start_col2:stop_col2].div(Africa_total1, axis=0)\\n#Africa_total2.mean()\\n#Africa_total1 = (Africa_total['Sodium'] + Africa_total['Potassium'] + Africa_total['Magnesium'] + Africa_total['Calcium'] +  Africa_total['Chloride'] + Africa_total['Nitrate'] + Africa_total['Sulfate'] + Africa_total['Oxalate'])\\n#Africa_total.sum()\\n# Reset the index of the DAY2b_subsetd dataframe\""
      ]
     },
     "execution_count": 646,
     "metadata": {},
     "output_type": "execute_result"
    }
   ],
   "source": [
    "\n",
    "'''# Concatenate the dataframes vertically (along rows)\n",
    "Africa_total = pd.concat([PILS_13_subset2, PILS_13b_subset2, PILS_14_subset2], axis=0)\n",
    "Africa_total.reset_index(drop=True, inplace=True)\n",
    "#Africa_total2 = Africa_total.drop('Ammonium', axis=1)\n",
    "Africa_total.mean()\n",
    "\n",
    "# Select the columns you want to sum\n",
    "#columns_to_sum = ['Sodium', 'Potassium', 'Magnesium', 'Calcium', 'Chloride', 'Nitrate', 'Sulfate', 'Oxalate']\n",
    "\n",
    "# Sum the selected columns and store the result in Africa_total1\n",
    "#Africa_total1 = Africa_total2[columns_to_sum].sum(axis = 1)\n",
    "# Calculate the sum of values for each row (axis=1)\n",
    "\n",
    "# Calculate the sum of all the values in Africa_total1\n",
    "#Africa_total1 = Africa_total1.sum()\n",
    "\n",
    "#Africa_total1\n",
    "# Specify the range of columns for division\n",
    "#start_col2 = 'Sodium'\n",
    "#stop_col2 = 'Oxalate'\n",
    "\n",
    "# Perform division and assign the result to the specified range of columns\n",
    "#Africa_total2.loc[:, start_col2:stop_col2] = Africa_total2.loc[:, start_col2:stop_col2].div(Africa_total1, axis=0)\n",
    "#Africa_total2.mean()\n",
    "#Africa_total1 = (Africa_total['Sodium'] + Africa_total['Potassium'] + Africa_total['Magnesium'] + Africa_total['Calcium'] +  Africa_total['Chloride'] + Africa_total['Nitrate'] + Africa_total['Sulfate'] + Africa_total['Oxalate'])\n",
    "#Africa_total.sum()\n",
    "# Reset the index of the DAY2b_subsetd dataframe'''\n",
    "\n"
   ]
  },
  {
   "cell_type": "code",
   "execution_count": 647,
   "metadata": {},
   "outputs": [
    {
     "data": {
      "text/plain": [
       "\"# Specify the range of columns for division\\nstart_col2 = 'Sodium'\\nstop_col2 = 'Oxalate'\\n\\n# Perform division and assign the result to the specified range of columns\\nAfrica_total2.loc[:, start_col2:stop_col2] = Africa_total2.loc[:, start_col2:stop_col2].div(Africa_total1, axis=0)\\nAfrica_total2.mean()\""
      ]
     },
     "execution_count": 647,
     "metadata": {},
     "output_type": "execute_result"
    }
   ],
   "source": [
    "'''# Specify the range of columns for division\n",
    "start_col2 = 'Sodium'\n",
    "stop_col2 = 'Oxalate'\n",
    "\n",
    "# Perform division and assign the result to the specified range of columns\n",
    "Africa_total2.loc[:, start_col2:stop_col2] = Africa_total2.loc[:, start_col2:stop_col2].div(Africa_total1, axis=0)\n",
    "Africa_total2.mean()'''"
   ]
  },
  {
   "cell_type": "code",
   "execution_count": 661,
   "metadata": {},
   "outputs": [
    {
     "data": {
      "text/plain": [
       "Time_Start    2022-06-02 15:21:41.000000256\n",
       "Time_Stop     2022-06-02 15:26:41.000000256\n",
       "Time_Mid      2022-06-02 15:24:10.999999744\n",
       "Sodium                              0.26675\n",
       "Potassium                          0.015909\n",
       "Magnesium                          0.026912\n",
       "Calcium                            0.026197\n",
       "Chloride                           0.139574\n",
       "Nitrate                            0.204154\n",
       "Sulfate                            0.316095\n",
       "Oxalate                            0.004408\n",
       "Nso4                               0.248607\n",
       "ratio                              0.704101\n",
       "dtype: object"
      ]
     },
     "execution_count": 661,
     "metadata": {},
     "output_type": "execute_result"
    }
   ],
   "source": [
    "\n",
    "# Concatenate the dataframes vertically (along rows)\n",
    "Ocean_total = pd.concat([PILS_2_subset2, PILS_22_subset2, PILS_2b_subset2], axis=0)\n",
    "Ocean_total.reset_index(drop=True, inplace=True)\n",
    "#Ocean_total2 = Ocean_total.drop('Ammonium', axis=1)\n",
    "\n",
    "# Select the columns you want to sum\n",
    "#columns_to_sum = ['Sodium', 'Potassium', 'Magnesium', 'Calcium', 'Chloride', 'Nitrate', 'Sulfate', 'Oxalate']\n",
    "\n",
    "# Sum the selected columns and store the result in Africa_total1\n",
    "#Ocean_total1 = Ocean_total2[columns_to_sum].sum(axis = 1)\n",
    "# Calculate the sum of values for each row (axis=1)\n",
    "\n",
    "# Calculate the sum of all the values in Africa_total1\n",
    "#Africa_total1 = Africa_total1.sum()\n",
    "\n",
    "# Specify the range of columns for division\n",
    "#start_col2 = 'Sodium'\n",
    "#stop_col2 = 'Oxalate'\n",
    "\n",
    "# Perform division and assign the result to the specified range of columns\n",
    "#Ocean_total2.loc[:, start_col2:stop_col2] = Ocean_total2.loc[:, start_col2:stop_col2].div(Ocean_total1, axis=0)\n",
    "#Ocean_total2.mean()\n",
    "#Africa_total1 = (Africa_total['Sodium'] + Africa_total['Potassium'] + Africa_total['Magnesium'] + Africa_total['Calcium'] +  Africa_total['Chloride'] + Africa_total['Nitrate'] + Africa_total['Sulfate'] + Africa_total['Oxalate'])\n",
    "#Africa_total.sum()\n",
    "# Reset the index of the DAY2b_subsetd dataframe\n",
    "Ocean_total.mean()\n",
    "\n"
   ]
  },
  {
   "cell_type": "code",
   "execution_count": 660,
   "metadata": {},
   "outputs": [
    {
     "data": {
      "text/plain": [
       "Time_Start    2022-06-12 04:49:48.615384832\n",
       "Time_Stop     2022-06-12 04:54:47.384615424\n",
       "Time_Mid      2022-06-12 04:52:18.000000256\n",
       "Sodium                             0.201263\n",
       "Potassium                          0.014966\n",
       "Magnesium                          0.031492\n",
       "Calcium                            0.054696\n",
       "Chloride                           0.229872\n",
       "Nitrate                            0.198229\n",
       "Sulfate                            0.257419\n",
       "Oxalate                            0.012064\n",
       "Nso4                               0.206499\n",
       "ratio                              1.402932\n",
       "dtype: object"
      ]
     },
     "execution_count": 660,
     "metadata": {},
     "output_type": "execute_result"
    }
   ],
   "source": [
    "\n",
    "# Concatenate the dataframes vertically (along rows)\n",
    "Caribbean_total = pd.concat([PILS_10_subset2, PILS_10b_subset2, PILS_10c_subset2, PILS_11_subset2, PILS_11b_subset2, PILS_13_subset2, PILS_13b_subset2, PILS_14_subset2], axis=0)\n",
    "Caribbean_total.reset_index(drop=True, inplace=True)\n",
    "#Caribbean_total2 = Caribbean_total.drop('Ammonium', axis=1)\n",
    "\n",
    "# Select the columns you want to sum\n",
    "#columns_to_sum = ['Sodium', 'Potassium', 'Magnesium', 'Calcium', 'Chloride', 'Nitrate', 'Sulfate', 'Oxalate']\n",
    "\n",
    "# Sum the selected columns and store the result in Africa_total1\n",
    "#Caribbean_total1 = Caribbean_total[columns_to_sum].sum(axis = 1)\n",
    "# Calculate the sum of values for each row (axis=1)\n",
    "\n",
    "# Calculate the sum of all the values in Africa_total1\n",
    "#Africa_total1 = Africa_total1.sum()\n",
    "\n",
    "# Specify the range of columns for division\n",
    "#start_col2 = 'Sodium'\n",
    "#stop_col2 = 'Oxalate'\n",
    "\n",
    "# Perform division and assign the result to the specified range of columns\n",
    "#Caribbean_total2.loc[:, start_col2:stop_col2] = Caribbean_total2.loc[:, start_col2:stop_col2].div(Caribbean_total1, axis=0)\n",
    "#Caribbean_total2.mean()\n",
    "#Africa_total1 = (Africa_total['Sodium'] + Africa_total['Potassium'] + Africa_total['Magnesium'] + Africa_total['Calcium'] +  Africa_total['Chloride'] + Africa_total['Nitrate'] + Africa_total['Sulfate'] + Africa_total['Oxalate'])\n",
    "#Africa_total.sum()\n",
    "# Reset the index of the DAY2b_subsetd dataframe\n",
    "Caribbean_total.mean()\n",
    "\n"
   ]
  },
  {
   "cell_type": "code",
   "execution_count": 650,
   "metadata": {},
   "outputs": [
    {
     "data": {
      "text/plain": [
       "Time_Start    2022-06-10 20:52:24.714285824\n",
       "Time_Stop     2022-06-10 20:57:24.714285824\n",
       "Time_Mid      2022-06-10 20:54:54.714285568\n",
       "Sodium                             0.333473\n",
       "Potassium                          0.007364\n",
       "Magnesium                          0.027295\n",
       "Calcium                            0.009965\n",
       "Chloride                           0.432944\n",
       "Nitrate                             0.07531\n",
       "Sulfate                            0.112462\n",
       "Oxalate                            0.001187\n",
       "Nso4                               0.047501\n",
       "ratio                               1.38741\n",
       "dtype: object"
      ]
     },
     "execution_count": 650,
     "metadata": {},
     "output_type": "execute_result"
    }
   ],
   "source": [
    "\n",
    "# Concatenate the dataframes vertically (along rows)\n",
    "North_America_total = pd.concat([PILS_7_subset2, PILS_7b_subset2, PILS_8_subset2, PILS_17_subset2], axis=0)\n",
    "North_America_total.reset_index(drop=True, inplace=True)\n",
    "#North_America_total2 = North_America_total.drop('Ammonium', axis=1)\n",
    "\n",
    "# Select the columns you want to sum\n",
    "#columns_to_sum = ['Sodium', 'Potassium', 'Magnesium', 'Calcium', 'Chloride', 'Nitrate', 'Sulfate', 'Oxalate']\n",
    "\n",
    "# Sum the selected columns and store the result in Africa_total1\n",
    "#North_America_total1 = North_America_total2[columns_to_sum].sum(axis = 1)\n",
    "# Calculate the sum of values for each row (axis=1)\n",
    "\n",
    "# Calculate the sum of all the values in Africa_total1\n",
    "#Africa_total1 = Africa_total1.sum()\n",
    "\n",
    "# Specify the range of columns for division\n",
    "#start_col2 = 'Sodium'\n",
    "#stop_col2 = 'Oxalate'\n",
    "\n",
    "# Perform division and assign the result to the specified range of columns\n",
    "#North_America_total2.loc[:, start_col2:stop_col2] = North_America_total2.loc[:, start_col2:stop_col2].div(North_America_total1, axis=0)\n",
    "#North_America_total2.mean()\n",
    "#Africa_total1 = (Africa_total['Sodium'] + Africa_total['Potassium'] + Africa_total['Magnesium'] + Africa_total['Calcium'] +  Africa_total['Chloride'] + Africa_total['Nitrate'] + Africa_total['Sulfate'] + Africa_total['Oxalate'])\n",
    "#Africa_total.sum()\n",
    "# Reset the index of the DAY2b_subsetd dataframe\n",
    "\n",
    "North_America_total.mean()"
   ]
  }
 ],
 "metadata": {
  "kernelspec": {
   "display_name": "Python 3",
   "language": "python",
   "name": "python3"
  },
  "language_info": {
   "codemirror_mode": {
    "name": "ipython",
    "version": 3
   },
   "file_extension": ".py",
   "mimetype": "text/x-python",
   "name": "python",
   "nbconvert_exporter": "python",
   "pygments_lexer": "ipython3",
   "version": "3.10.9"
  },
  "orig_nbformat": 4
 },
 "nbformat": 4,
 "nbformat_minor": 2
}
