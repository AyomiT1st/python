{
 "cells": [
  {
   "cell_type": "code",
   "execution_count": 32,
   "metadata": {},
   "outputs": [],
   "source": [
    "import numpy as np\n",
    "import pandas as pd\n",
    "import h5py\n",
    "import os\n",
    "import glob\n",
    "from datetime import datetime\n",
    "from datetime import timedelta\n",
    "from matplotlib import pyplot as plt\n",
    "import matplotlib.dates as md\n",
    "import warnings\n",
    "from scipy.interpolate import interp2d\n",
    "from scipy.interpolate import interp1d\n",
    "from scipy.interpolate import make_interp_spline\n",
    "warnings.filterwarnings('ignore')\n",
    "import scipy.ndimage as ndimage\n",
    "from matplotlib import cm\n",
    "from matplotlib.colors import LogNorm\n",
    "from sklearn import preprocessing\n",
    "import seaborn as sns\n",
    "from scipy.stats import pearsonr\n",
    "from scipy import stats"
   ]
  },
  {
   "cell_type": "code",
   "execution_count": 33,
   "metadata": {},
   "outputs": [],
   "source": [
    "def simple_read(path):\n",
    "    with open(path) as f:\n",
    "        first_line = f.readline()\n",
    "        header_line = int(first_line[0:-2].split(\",\")[0])-1\n",
    "        #all_lines = f.readlines()\n",
    "    data = pd.read_csv(path, sep=',', skiprows=header_line)\n",
    "    data.columns = [i.strip() for i in data.columns]\n",
    "    #date = all_lines[5][0:10].split(',')\n",
    "    #dt = datetime(int(date[0]), int(date[1]), int(date[2]))\n",
    "\n",
    "    acc = 0\n",
    "    boo = False\n",
    "    for letter in path:\n",
    "        if letter == '2':\n",
    "            boo = True\n",
    "        elif boo and letter == '0':\n",
    "            acc -= 1\n",
    "            break\n",
    "        acc += 1\n",
    "    #print(path[:acc+4], path[acc+4:acc+6], path[acc+6:acc+8])\n",
    "    dt = datetime(int(path[acc:acc+4]), int(path[acc+4:acc+6]), int(path[acc+6:acc+8]))\n",
    "    \n",
    "    for column in data.keys():\n",
    "        if 'Time' in column:\n",
    "            data[column] = dt + pd.to_timedelta(data[column], unit='seconds')\n",
    "    return data.replace(-999999, np.NaN)"
   ]
  },
  {
   "cell_type": "code",
   "execution_count": 47,
   "metadata": {},
   "outputs": [],
   "source": [
    "paths = sorted(glob.glob('C:/Users/taiwoajayi/Desktop/chemistry data/*activate-mrg1_hu25*'))\n",
    "sum = []\n",
    "for path in paths:\n",
    "    sum.append(simple_read(path))\n",
    "acc=0\n",
    "i=0\n",
    "master = pd.DataFrame()\n",
    "master['Date_Time_UTC'] = sum[i]['Time_Start']\n",
    "master['Latitude'] = sum[i]['Latitude_THORNHILL']\n",
    "master['Longitude'] = sum[i]['Longitude_THORNHILL']\n",
    "master['Altitude'] = sum[i]['GPS_Altitude_THORNHILL']\n",
    "for i in range(1,16):\n",
    "    output = pd.DataFrame()\n",
    "    output['Date_Time_UTC'] = sum[i]['Time_Start']\n",
    "    output['Latitude'] = sum[i]['Latitude_THORNHILL']\n",
    "    output['Longitude'] = sum[i]['Longitude_THORNHILL']\n",
    "    output['Altitude'] = sum[i]['GPS_Altitude_THORNHILL']\n",
    "    master = pd.concat([master, output], axis=0)\n",
    "    acc+=1\n",
    "master = master.set_index('Date_Time_UTC')\n",
    "\n",
    "master.to_csv('C:/Users/taiwoajayi/Documents/csv/T_Flights.csv')"
   ]
  },
  {
   "cell_type": "code",
   "execution_count": 13,
   "metadata": {},
   "outputs": [
    {
     "data": {
      "text/plain": [
       "['C:/Users/taiwoajayi/Desktop/chemistry data\\\\activate-mrg1_hu25_20220517_R0_20230418T125939.ict',\n",
       " 'C:/Users/taiwoajayi/Desktop/chemistry data\\\\activate-mrg1_hu25_20220602_R0_L1_20230418T125941.ict',\n",
       " 'C:/Users/taiwoajayi/Desktop/chemistry data\\\\activate-mrg1_hu25_20220602_R0_L2_20230418T125941.ict',\n",
       " 'C:/Users/taiwoajayi/Desktop/chemistry data\\\\activate-mrg1_hu25_20220603_R0_20230418T125942.ict',\n",
       " 'C:/Users/taiwoajayi/Desktop/chemistry data\\\\activate-mrg1_hu25_20220607_R0_L1_20230418T125943.ict',\n",
       " 'C:/Users/taiwoajayi/Desktop/chemistry data\\\\activate-mrg1_hu25_20220607_R0_L2_20230418T125943.ict',\n",
       " 'C:/Users/taiwoajayi/Desktop/chemistry data\\\\activate-mrg1_hu25_20220608_R0_L1_20230418T125946.ict',\n",
       " 'C:/Users/taiwoajayi/Desktop/chemistry data\\\\activate-mrg1_hu25_20220608_R0_L2_20230418T125946.ict',\n",
       " 'C:/Users/taiwoajayi/Desktop/chemistry data\\\\activate-mrg1_hu25_20220610_R0_L1_20230418T125949.ict',\n",
       " 'C:/Users/taiwoajayi/Desktop/chemistry data\\\\activate-mrg1_hu25_20220610_R0_L2_20230418T125949.ict',\n",
       " 'C:/Users/taiwoajayi/Desktop/chemistry data\\\\activate-mrg1_hu25_20220611_R0_L1_20230418T125952.ict',\n",
       " 'C:/Users/taiwoajayi/Desktop/chemistry data\\\\activate-mrg1_hu25_20220611_R0_L2_20230418T125952.ict',\n",
       " 'C:/Users/taiwoajayi/Desktop/chemistry data\\\\activate-mrg1_hu25_20220613_R0_L1_20230418T125955.ict',\n",
       " 'C:/Users/taiwoajayi/Desktop/chemistry data\\\\activate-mrg1_hu25_20220613_R0_L2_20230418T125955.ict',\n",
       " 'C:/Users/taiwoajayi/Desktop/chemistry data\\\\activate-mrg1_hu25_20220614_R0_20230418T125957.ict',\n",
       " 'C:/Users/taiwoajayi/Desktop/chemistry data\\\\activate-mrg1_hu25_20220617_R0_20230418T125958.ict',\n",
       " 'C:/Users/taiwoajayi/Desktop/chemistry data\\\\activate-mrg1_hu25_20220618_R0_20230418T125959.ict']"
      ]
     },
     "execution_count": 13,
     "metadata": {},
     "output_type": "execute_result"
    }
   ],
   "source": [
    "paths = sorted(glob.glob('C:/Users/taiwoajayi/Desktop/chemistry data/*activate*'))\n",
    "paths"
   ]
  },
  {
   "cell_type": "code",
   "execution_count": 12,
   "metadata": {},
   "outputs": [
    {
     "ename": "IndexError",
     "evalue": "list index out of range",
     "output_type": "error",
     "traceback": [
      "\u001b[1;31m---------------------------------------------------------------------------\u001b[0m",
      "\u001b[1;31mIndexError\u001b[0m                                Traceback (most recent call last)",
      "Cell \u001b[1;32mIn[12], line 8\u001b[0m\n\u001b[0;32m      6\u001b[0m i\u001b[39m=\u001b[39m\u001b[39m0\u001b[39m\n\u001b[0;32m      7\u001b[0m master \u001b[39m=\u001b[39m pd\u001b[39m.\u001b[39mDataFrame()\n\u001b[1;32m----> 8\u001b[0m master[\u001b[39m'\u001b[39m\u001b[39mDate_Time_UTC\u001b[39m\u001b[39m'\u001b[39m] \u001b[39m=\u001b[39m \u001b[39msum\u001b[39;49m[i][\u001b[39m'\u001b[39m\u001b[39mTime_mid\u001b[39m\u001b[39m'\u001b[39m]\n\u001b[0;32m      9\u001b[0m master[\u001b[39m'\u001b[39m\u001b[39mLatitude\u001b[39m\u001b[39m'\u001b[39m] \u001b[39m=\u001b[39m \u001b[39msum\u001b[39m[i][\u001b[39m'\u001b[39m\u001b[39mLatitude\u001b[39m\u001b[39m'\u001b[39m]\n\u001b[0;32m     10\u001b[0m master[\u001b[39m'\u001b[39m\u001b[39mLongitude\u001b[39m\u001b[39m'\u001b[39m] \u001b[39m=\u001b[39m \u001b[39msum\u001b[39m[i][\u001b[39m'\u001b[39m\u001b[39mLongitude\u001b[39m\u001b[39m'\u001b[39m]\n",
      "\u001b[1;31mIndexError\u001b[0m: list index out of range"
     ]
    }
   ],
   "source": [
    "#barplot\n",
    "\n",
    "normal = (Day_8[' Chl_Ave_IsoK_STP_ZIEMBA']+Day_8[' Org_Ave_IsoK_STP_ZIEMBA']+Day_8[' SO4_Ave_IsoK_STP_ZIEMBA']+Day_8[' NO3_Ave_IsoK_STP_ZIEMBA']+Day_8[' NH4_Ave_IsoK_STP_ZIEMBA'])\n",
    "y1 = Day_8[' Chl_Ave_IsoK_STP_ZIEMBA']/normal\n",
    "y2 = Day_8[' Org_Ave_IsoK_STP_ZIEMBA']/normal\n",
    "y3 = Day_8[' SO4_Ave_IsoK_STP_ZIEMBA']/normal\n",
    "y4 = Day_8[' NO3_Ave_IsoK_STP_ZIEMBA']/normal\n",
    "y5 = Day_8[' NH4_Ave_IsoK_STP_ZIEMBA']/normal\n",
    "fig,ax = plt.subplots()\n",
    "#figsize=(7,3)\n",
    "ax.barh(Day_8[' GPS_Altitude_THORNHILL'], y1, height = 400, color = \"pink\", label = 'chloride')\n",
    "ax.barh(Day_8[' GPS_Altitude_THORNHILL'], y2, left = y1, height = 400, color = \"green\", label = 'Organics')\n",
    "ax.barh(Day_8[' GPS_Altitude_THORNHILL'], y3, left = y1+y2, height = 400, color = \"red\", label = 'Sulphate')\n",
    "ax.barh(Day_8[' GPS_Altitude_THORNHILL'], y4, left = y1+y2+y3, height = 400, color = \"blue\", label = 'Nitrate')\n",
    "ax.barh(Day_8[' GPS_Altitude_THORNHILL'], y5, left = y1+y2+y3+y4, height = 400, color = \"darkorange\", label = 'Ammonium')\n",
    "ax.set_ylabel('Altitude (meters)')\n",
    "ax.set_xlabel('Mass_Fraction{$\\mu$g m$^{-3}$}')\n",
    "\n",
    "ax.legend(bbox_to_anchor=(1.15, 1), loc = 'right', fontsize='xx-small')\n",
    "plt.tight_layout()"
   ]
  },
  {
   "cell_type": "code",
   "execution_count": null,
   "metadata": {},
   "outputs": [],
   "source": [
    "paths = sorted(glob.glob('./data/*SUMMARY*'))\n",
    "sum = []\n",
    "for path in paths:\n",
    "    sum.append(simple_read(path))\n",
    "acc=0\n",
    "for s in sum:\n",
    "    output = pd.DataFrame()\n",
    "    gap = pd.DataFrame()\n",
    "    output['Date_Time_UTC'] = s['Time_mid']\n",
    "    output['Latitude'] = s['Latitude']\n",
    "    output['Longitude'] = s['Longitude']\n",
    "    output['Altitude'] = s['GPS_altitude']\n",
    "    output = output.set_index('Date_Time_UTC')\n",
    "\n",
    "    output.to_csv('./flight_paths/' + str(paths[acc][30:]) + '.csv')\n",
    "    acc+=1"
   ]
  }
 ],
 "metadata": {
  "kernelspec": {
   "display_name": "Taiwo",
   "language": "python",
   "name": "python3"
  },
  "language_info": {
   "codemirror_mode": {
    "name": "ipython",
    "version": 3
   },
   "file_extension": ".py",
   "mimetype": "text/x-python",
   "name": "python",
   "nbconvert_exporter": "python",
   "pygments_lexer": "ipython3",
   "version": "3.10.9"
  },
  "orig_nbformat": 4
 },
 "nbformat": 4,
 "nbformat_minor": 2
}
